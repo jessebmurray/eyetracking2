{
 "cells": [
  {
   "cell_type": "code",
   "execution_count": 1,
   "metadata": {},
   "outputs": [],
   "source": [
    "import pandas as pd\n",
    "import numpy as np\n",
    "import matplotlib.pyplot as plt\n",
    "import swifter"
   ]
  },
  {
   "cell_type": "code",
   "execution_count": 2,
   "metadata": {},
   "outputs": [],
   "source": [
    "df = pd.read_csv('../data/fall_2019_cleaned_prepared_total_participant_data.csv')"
   ]
  },
  {
   "cell_type": "markdown",
   "metadata": {},
   "source": [
    "* Subject 12 fixation data is unuseable (likely due to the lazy eye)\n",
    "* I forgot we had two black break images, we need to go back to `clean_fall_2019.ipynb` and separate these out"
   ]
  },
  {
   "cell_type": "code",
   "execution_count": 171,
   "metadata": {},
   "outputs": [
    {
     "data": {
      "text/html": [
       "<div>\n",
       "<style scoped>\n",
       "    .dataframe tbody tr th:only-of-type {\n",
       "        vertical-align: middle;\n",
       "    }\n",
       "\n",
       "    .dataframe tbody tr th {\n",
       "        vertical-align: top;\n",
       "    }\n",
       "\n",
       "    .dataframe thead th {\n",
       "        text-align: right;\n",
       "    }\n",
       "</style>\n",
       "<table border=\"1\" class=\"dataframe\">\n",
       "  <thead>\n",
       "    <tr style=\"text-align: right;\">\n",
       "      <th></th>\n",
       "      <th>index</th>\n",
       "      <th>Timestamp</th>\n",
       "    </tr>\n",
       "  </thead>\n",
       "  <tbody>\n",
       "    <tr>\n",
       "      <th>280</th>\n",
       "      <td>2564.0</td>\n",
       "      <td>1</td>\n",
       "    </tr>\n",
       "    <tr>\n",
       "      <th>224</th>\n",
       "      <td>21.0</td>\n",
       "      <td>1</td>\n",
       "    </tr>\n",
       "    <tr>\n",
       "      <th>9</th>\n",
       "      <td>20.0</td>\n",
       "      <td>2</td>\n",
       "    </tr>\n",
       "    <tr>\n",
       "      <th>5</th>\n",
       "      <td>19.0</td>\n",
       "      <td>23</td>\n",
       "    </tr>\n",
       "    <tr>\n",
       "      <th>2</th>\n",
       "      <td>18.0</td>\n",
       "      <td>1762</td>\n",
       "    </tr>\n",
       "    <tr>\n",
       "      <th>0</th>\n",
       "      <td>17.0</td>\n",
       "      <td>997091</td>\n",
       "    </tr>\n",
       "    <tr>\n",
       "      <th>1</th>\n",
       "      <td>16.0</td>\n",
       "      <td>526349</td>\n",
       "    </tr>\n",
       "    <tr>\n",
       "      <th>3</th>\n",
       "      <td>15.0</td>\n",
       "      <td>1292</td>\n",
       "    </tr>\n",
       "    <tr>\n",
       "      <th>4</th>\n",
       "      <td>14.0</td>\n",
       "      <td>244</td>\n",
       "    </tr>\n",
       "    <tr>\n",
       "      <th>8</th>\n",
       "      <td>12.0</td>\n",
       "      <td>2</td>\n",
       "    </tr>\n",
       "    <tr>\n",
       "      <th>171</th>\n",
       "      <td>-4196.0</td>\n",
       "      <td>1</td>\n",
       "    </tr>\n",
       "    <tr>\n",
       "      <th>192</th>\n",
       "      <td>-4530.0</td>\n",
       "      <td>1</td>\n",
       "    </tr>\n",
       "  </tbody>\n",
       "</table>\n",
       "</div>"
      ],
      "text/plain": [
       "      index  Timestamp\n",
       "280  2564.0          1\n",
       "224    21.0          1\n",
       "9      20.0          2\n",
       "5      19.0         23\n",
       "2      18.0       1762\n",
       "0      17.0     997091\n",
       "1      16.0     526349\n",
       "3      15.0       1292\n",
       "4      14.0        244\n",
       "8      12.0          2\n",
       "171 -4196.0          1\n",
       "192 -4530.0          1"
      ]
     },
     "execution_count": 171,
     "metadata": {},
     "output_type": "execute_result"
    }
   ],
   "source": [
    "# Reminds me of the delta function. \n",
    "# (The large negatives are caused by the two break images)\n",
    "df.Timestamp.diff().value_counts().reset_index().sort_values('index', ascending=False).iloc[23:23+12]"
   ]
  },
  {
   "cell_type": "markdown",
   "metadata": {},
   "source": [
    "### Recall"
   ]
  },
  {
   "cell_type": "code",
   "execution_count": 142,
   "metadata": {},
   "outputs": [
    {
     "name": "stdout",
     "output_type": "stream",
     "text": [
      "Phase types: [0, 1, -1]\n",
      "Number of locations: [6, 5, 0]\n"
     ]
    }
   ],
   "source": [
    "print('Phase types:', df.PhaseType.unique().tolist())\n",
    "print('Number of locations:', df.nLocs.unique().tolist())"
   ]
  },
  {
   "cell_type": "markdown",
   "metadata": {},
   "source": [
    "### Distance from centers"
   ]
  },
  {
   "cell_type": "code",
   "execution_count": 32,
   "metadata": {},
   "outputs": [
    {
     "data": {
      "image/png": "[encoded data removed]",
      "text/plain": [
       "<Figure size 432x288 with 1 Axes>"
      ]
     },
     "metadata": {
      "needs_background": "light"
     },
     "output_type": "display_data"
    }
   ],
   "source": [
    "df.loc[(df.PhaseType == 1) & (df.nLocs == 5)].FixationR.hist(\n",
    "    bins=300, alpha=0.5, density=True, label='5 Letters/Numbers')\n",
    "df.loc[(df.PhaseType == 1) & (df.nLocs == 6)].FixationR.hist(\n",
    "    bins=300, alpha=0.5, density=True, label='6 Letters/Numbers')\n",
    "plt.title('All distances from centers');"
   ]
  },
  {
   "cell_type": "code",
   "execution_count": 176,
   "metadata": {},
   "outputs": [
    {
     "data": {
      "text/plain": [
       "152.11837495845134"
      ]
     },
     "execution_count": 176,
     "metadata": {},
     "output_type": "execute_result"
    }
   ],
   "source": [
    "np.nanquantile(df.loc[(df.PhaseType == 1) & (df.nLocs == 5)].FixationR.values, 0.75)"
   ]
  },
  {
   "cell_type": "code",
   "execution_count": 177,
   "metadata": {},
   "outputs": [
    {
     "data": {
      "text/plain": [
       "128.96898852049662"
      ]
     },
     "execution_count": 177,
     "metadata": {},
     "output_type": "execute_result"
    }
   ],
   "source": [
    "np.nanquantile(df.loc[(df.PhaseType == 1) & (df.nLocs == 6)].FixationR.values, 0.75)"
   ]
  },
  {
   "cell_type": "code",
   "execution_count": 19,
   "metadata": {
    "scrolled": false
   },
   "outputs": [],
   "source": [
    "# for subj in df.ID.unique():\n",
    "#     print(subj)\n",
    "#     df.loc[(df.ID == subj) & (df.PhaseType == 1) & (df.nLocs == 5)].FixationR.hist(bins=300, alpha=0.5, density=True)\n",
    "#     df.loc[(df.ID == subj) & (df.PhaseType == 1) & (df.nLocs == 6)].FixationR.hist(bins=300, alpha=0.5, density=True)\n",
    "#     plt.show()\n",
    "#     print()"
   ]
  },
  {
   "cell_type": "code",
   "execution_count": 33,
   "metadata": {},
   "outputs": [
    {
     "data": {
      "image/png": "[encoded data removed]",
      "text/plain": [
       "<Figure size 432x288 with 1 Axes>"
      ]
     },
     "metadata": {
      "needs_background": "light"
     },
     "output_type": "display_data"
    }
   ],
   "source": [
    "subj = np.random.choice(df.ID.unique())\n",
    "df.loc[(df.ID == subj) & (df.PhaseType == 1) & (df.nLocs == 5)].FixationR.hist(\n",
    "    bins=300, alpha=0.5, density=True, label='5 Letters')\n",
    "df.loc[(df.ID == subj) & (df.PhaseType == 1) & (df.nLocs == 6)].FixationR.hist(\n",
    "    bins=300, alpha=0.5, density=True, label='6 Letters')\n",
    "plt.title('Subject ' + str(subj) + ', Trials')\n",
    "plt.legend();"
   ]
  },
  {
   "cell_type": "code",
   "execution_count": 34,
   "metadata": {
    "scrolled": false
   },
   "outputs": [
    {
     "data": {
      "image/png": "[encoded data removed]",
      "text/plain": [
       "<Figure size 432x288 with 1 Axes>"
      ]
     },
     "metadata": {
      "needs_background": "light"
     },
     "output_type": "display_data"
    }
   ],
   "source": [
    "df.loc[(df.ID == subj) & (df.PhaseType == 0) & (df.MediaName.isin(['123456_1', '123456_2']))\n",
    "        ].FixationR.hist(bins=300, density=True)\n",
    "plt.title('Subject ' + str(subj) + ', Six-Number Calibrations');"
   ]
  },
  {
   "cell_type": "code",
   "execution_count": null,
   "metadata": {},
   "outputs": [],
   "source": [
    "### for subj in df.ID.unique():\n",
    "#     print(subj)\n",
    "#     df.loc[(df.ID == subj) & (df.PhaseType == 1) & (df.nLocs == 5)].FixationR.hist(bins=300, alpha=0.5, density=True)\n",
    "#     df.loc[(df.ID == subj) & (df.PhaseType == 1) & (df.nLocs == 6)].FixationR.hist(bins=300, alpha=0.5, density=True)\n",
    "#     plt.show()\n",
    "#     print()"
   ]
  },
  {
   "cell_type": "code",
   "execution_count": 253,
   "metadata": {
    "scrolled": true
   },
   "outputs": [
    {
     "data": {
      "image/png": "[encoded data removed]",
      "text/plain": [
       "<Figure size 432x288 with 1 Axes>"
      ]
     },
     "metadata": {
      "needs_background": "light"
     },
     "output_type": "display_data"
    }
   ],
   "source": [
    "p = np.random.choice(df.PhaseName.unique())\n",
    "df.loc[(df.PhaseName == p)].PupilLeft.plot()\n",
    "df.loc[(df.PhaseName == p)].PupilRight.plot()\n",
    "plt.title(p)\n",
    "plt.show()"
   ]
  },
  {
   "cell_type": "markdown",
   "metadata": {},
   "source": [
    "#### Split by radius"
   ]
  },
  {
   "cell_type": "code",
   "execution_count": 36,
   "metadata": {},
   "outputs": [],
   "source": [
    "df5 = df.loc[(df.PhaseType > -1) & (df.nLocs == 5)]\n",
    "\n",
    "df6 = df.loc[(df.PhaseType > -1) & (df.nLocs == 6)]\n",
    "\n",
    "dfb = df.loc[(df.PhaseType < 0)]"
   ]
  },
  {
   "cell_type": "markdown",
   "metadata": {},
   "source": [
    "### Sample demo of what will be done for each participant"
   ]
  },
  {
   "cell_type": "code",
   "execution_count": 207,
   "metadata": {},
   "outputs": [],
   "source": [
    "# Minimum radius for 5 letter words\n",
    "RADIUS5 = 150\n",
    "# Minimum number of milliseconds to be within the radius for Gaze\n",
    "GAZEMIN = 150"
   ]
  },
  {
   "cell_type": "code",
   "execution_count": 160,
   "metadata": {},
   "outputs": [
    {
     "data": {
      "text/plain": [
       "'22_RUCTO'"
      ]
     },
     "execution_count": 160,
     "metadata": {},
     "output_type": "execute_result"
    }
   ],
   "source": [
    "np.random.choice(df5.PhaseName.unique())"
   ]
  },
  {
   "cell_type": "code",
   "execution_count": 161,
   "metadata": {},
   "outputs": [],
   "source": [
    "p = '10_CTUOR'\n",
    "\n",
    "dfs = df5.loc[df5.PhaseName == p]"
   ]
  },
  {
   "cell_type": "code",
   "execution_count": 162,
   "metadata": {},
   "outputs": [],
   "source": [
    "# Suppress unnecessary warning\n",
    "pd.options.mode.chained_assignment = None  # default='warn'"
   ]
  },
  {
   "cell_type": "code",
   "execution_count": 163,
   "metadata": {},
   "outputs": [],
   "source": [
    "# Apply the radius, location 0 is 'in-between' the locations\n",
    "dfs.GazeLoc = dfs.apply(lambda row: 0 if row.GazeR > RADIUS5 else row.GazeLoc, axis=1)\n",
    "dfs.FixationLoc = dfs.apply(lambda row: 0 if row.FixationR > RADIUS5 else row.FixationLoc, axis=1)"
   ]
  },
  {
   "cell_type": "code",
   "execution_count": 165,
   "metadata": {},
   "outputs": [],
   "source": [
    "# Set Gaze location number (needed for `goupby`)\n",
    "dfsg = dfs.dropna(subset=['GazeLoc'])\n",
    "# Check if the next index disagrees with the current index\n",
    "idxs = dfsg.index[(dfsg.GazeLoc.shift(periods=1) != dfsg.GazeLoc)]\n",
    "dfs['GazeLocN'] = np.zeros(dfs.shape[0])\n",
    "dfs.loc[idxs, 'GazeLocN'] = 1\n",
    "dfs.GazeLocN = np.cumsum(dfs.GazeLocN)"
   ]
  },
  {
   "cell_type": "code",
   "execution_count": 166,
   "metadata": {},
   "outputs": [],
   "source": [
    "# Do the same for Fixation\n",
    "dfsf = dfs.dropna(subset=['FixationLoc'])\n",
    "idxs = dfsf.index[(dfsf.FixationLoc.shift(periods=1) != dfsf.FixationLoc)]\n",
    "dfs['FixationLocN'] = np.zeros(dfs.shape[0])\n",
    "dfs.loc[idxs, 'FixationLocN'] = 1\n",
    "dfs.FixationLocN = np.cumsum(dfs.FixationLocN)"
   ]
  },
  {
   "cell_type": "markdown",
   "metadata": {},
   "source": [
    "##### Get a look"
   ]
  },
  {
   "cell_type": "code",
   "execution_count": 201,
   "metadata": {},
   "outputs": [
    {
     "data": {
      "text/plain": [
       "<matplotlib.axes._subplots.AxesSubplot at 0x7f8b55b64ac0>"
      ]
     },
     "execution_count": 201,
     "metadata": {},
     "output_type": "execute_result"
    },
    {
     "data": {
      "image/png": "[encoded data removed]",
      "text/plain": [
       "<Figure size 432x288 with 1 Axes>"
      ]
     },
     "metadata": {
      "needs_background": "light"
     },
     "output_type": "display_data"
    }
   ],
   "source": [
    "(dfs.groupby('GazeLocN').Timestamp.max() - dfs.groupby('GazeLocN').Timestamp.min() + 17).hist(bins=150)"
   ]
  },
  {
   "cell_type": "code",
   "execution_count": 191,
   "metadata": {},
   "outputs": [
    {
     "data": {
      "text/plain": [
       "<matplotlib.axes._subplots.AxesSubplot at 0x7f8b55940b80>"
      ]
     },
     "execution_count": 191,
     "metadata": {},
     "output_type": "execute_result"
    },
    {
     "data": {
      "image/png": "[encoded data removed]",
      "text/plain": [
       "<Figure size 432x288 with 1 Axes>"
      ]
     },
     "metadata": {
      "needs_background": "light"
     },
     "output_type": "display_data"
    }
   ],
   "source": [
    "(dfs.groupby('FixationLocN').Timestamp.max() - dfs.groupby('FixationLocN').Timestamp.min() + 17).hist(bins=150)"
   ]
  },
  {
   "cell_type": "markdown",
   "metadata": {},
   "source": [
    "#### What to return?"
   ]
  },
  {
   "cell_type": "code",
   "execution_count": 209,
   "metadata": {},
   "outputs": [],
   "source": [
    "dfsGG = dfs.groupby('GazeLocN')\n",
    "dfsFG = dfs.groupby('FixationLocN')"
   ]
  },
  {
   "cell_type": "code",
   "execution_count": 257,
   "metadata": {},
   "outputs": [],
   "source": [
    "dfsGGDur = dfsGG.Timestamp.max() - dfsGG.Timestamp.min() + 17"
   ]
  },
  {
   "cell_type": "code",
   "execution_count": 260,
   "metadata": {},
   "outputs": [],
   "source": [
    "dfsGGLoc = dfsGG.GazeLoc.mean()"
   ]
  },
  {
   "cell_type": "code",
   "execution_count": 265,
   "metadata": {},
   "outputs": [],
   "source": [
    "dfsGGPupLmean = dfsGG.PupilLeft.mean()\n",
    "\n",
    "dfsGGPupLmed = dfsGG.PupilLeft.median()\n",
    "\n",
    "dfsGGPupLstd = dfsGG.PupilLeft.std()"
   ]
  },
  {
   "cell_type": "code",
   "execution_count": 269,
   "metadata": {},
   "outputs": [],
   "source": [
    "dfsGGPupRmean = dfsGG.PupilRight.mean()\n",
    "\n",
    "dfsGGPupRmed = dfsGG.PupilRight.median()\n",
    "\n",
    "dfsGGPupRstd = dfsGG.PupilRight.std()"
   ]
  },
  {
   "cell_type": "code",
   "execution_count": null,
   "metadata": {},
   "outputs": [],
   "source": []
  },
  {
   "cell_type": "code",
   "execution_count": null,
   "metadata": {},
   "outputs": [],
   "source": []
  },
  {
   "cell_type": "code",
   "execution_count": null,
   "metadata": {},
   "outputs": [],
   "source": []
  },
  {
   "cell_type": "code",
   "execution_count": null,
   "metadata": {},
   "outputs": [],
   "source": []
  },
  {
   "cell_type": "code",
   "execution_count": 224,
   "metadata": {},
   "outputs": [
    {
     "data": {
      "text/plain": [
       "Index(['ID', 'Date', 'MediaName', 'EventType', 'EventDuration', 'FixationX',\n",
       "       'FixationY', 'GazeX', 'GazeY', 'DistanceLeft', 'DistanceRight',\n",
       "       'EyePosLeftX', 'EyePosLeftY', 'EyePosLeftX.1', 'EyePosRightX',\n",
       "       'EyePosRightY', 'EyePosRightZ', 'ValidityLeft', 'ValidityRight',\n",
       "       'PupilLeft', 'PupilRight', 'PhaseName', 'Timestamp', 'FixationN',\n",
       "       'SaccadeN', 'GazeLoc', 'GazeR', 'GazeTheta', 'FixationLoc', 'FixationR',\n",
       "       'FixationTheta', 'PhaseType', 'nLocs', 'GazeLocN', 'FixationLocN'],\n",
       "      dtype='object')"
      ]
     },
     "execution_count": 224,
     "metadata": {},
     "output_type": "execute_result"
    }
   ],
   "source": [
    "dfs.columns"
   ]
  },
  {
   "cell_type": "code",
   "execution_count": null,
   "metadata": {},
   "outputs": [],
   "source": []
  },
  {
   "cell_type": "code",
   "execution_count": null,
   "metadata": {},
   "outputs": [],
   "source": []
  },
  {
   "cell_type": "code",
   "execution_count": null,
   "metadata": {},
   "outputs": [],
   "source": []
  },
  {
   "cell_type": "code",
   "execution_count": null,
   "metadata": {},
   "outputs": [],
   "source": []
  },
  {
   "cell_type": "code",
   "execution_count": null,
   "metadata": {},
   "outputs": [],
   "source": []
  },
  {
   "cell_type": "code",
   "execution_count": 205,
   "metadata": {},
   "outputs": [
    {
     "data": {
      "text/plain": [
       "Float64Index([  3.0,   5.0,   7.0,   8.0,  11.0,  13.0,  15.0,  17.0,  19.0,\n",
       "               23.0,\n",
       "              ...\n",
       "              414.0, 415.0, 420.0, 422.0, 424.0, 426.0, 430.0, 432.0, 433.0,\n",
       "              436.0],\n",
       "             dtype='float64', name='GazeLocN', length=198)"
      ]
     },
     "execution_count": 205,
     "metadata": {},
     "output_type": "execute_result"
    }
   ],
   "source": [
    "dfsgDurs.loc[dfsgDurs < 150].index"
   ]
  },
  {
   "cell_type": "code",
   "execution_count": null,
   "metadata": {},
   "outputs": [],
   "source": []
  },
  {
   "cell_type": "code",
   "execution_count": 216,
   "metadata": {},
   "outputs": [
    {
     "data": {
      "text/html": [
       "<div>\n",
       "<style scoped>\n",
       "    .dataframe tbody tr th:only-of-type {\n",
       "        vertical-align: middle;\n",
       "    }\n",
       "\n",
       "    .dataframe tbody tr th {\n",
       "        vertical-align: top;\n",
       "    }\n",
       "\n",
       "    .dataframe thead th {\n",
       "        text-align: right;\n",
       "    }\n",
       "</style>\n",
       "<table border=\"1\" class=\"dataframe\">\n",
       "  <thead>\n",
       "    <tr style=\"text-align: right;\">\n",
       "      <th></th>\n",
       "      <th>ID</th>\n",
       "      <th>Date</th>\n",
       "      <th>MediaName</th>\n",
       "      <th>EventType</th>\n",
       "      <th>EventDuration</th>\n",
       "      <th>FixationX</th>\n",
       "      <th>FixationY</th>\n",
       "      <th>GazeX</th>\n",
       "      <th>GazeY</th>\n",
       "      <th>DistanceLeft</th>\n",
       "      <th>...</th>\n",
       "      <th>GazeLoc</th>\n",
       "      <th>GazeR</th>\n",
       "      <th>GazeTheta</th>\n",
       "      <th>FixationLoc</th>\n",
       "      <th>FixationR</th>\n",
       "      <th>FixationTheta</th>\n",
       "      <th>PhaseType</th>\n",
       "      <th>nLocs</th>\n",
       "      <th>GazeLocN</th>\n",
       "      <th>FixationLocN</th>\n",
       "    </tr>\n",
       "  </thead>\n",
       "  <tbody>\n",
       "    <tr>\n",
       "      <th>420136</th>\n",
       "      <td>10</td>\n",
       "      <td>11/12/2019</td>\n",
       "      <td>CTUOR</td>\n",
       "      <td>NaN</td>\n",
       "      <td>217.0</td>\n",
       "      <td>NaN</td>\n",
       "      <td>NaN</td>\n",
       "      <td>NaN</td>\n",
       "      <td>NaN</td>\n",
       "      <td>NaN</td>\n",
       "      <td>...</td>\n",
       "      <td>NaN</td>\n",
       "      <td>NaN</td>\n",
       "      <td>NaN</td>\n",
       "      <td>NaN</td>\n",
       "      <td>NaN</td>\n",
       "      <td>NaN</td>\n",
       "      <td>1</td>\n",
       "      <td>5</td>\n",
       "      <td>0.0</td>\n",
       "      <td>0.0</td>\n",
       "    </tr>\n",
       "    <tr>\n",
       "      <th>420137</th>\n",
       "      <td>10</td>\n",
       "      <td>11/12/2019</td>\n",
       "      <td>CTUOR</td>\n",
       "      <td>NaN</td>\n",
       "      <td>217.0</td>\n",
       "      <td>NaN</td>\n",
       "      <td>NaN</td>\n",
       "      <td>NaN</td>\n",
       "      <td>NaN</td>\n",
       "      <td>NaN</td>\n",
       "      <td>...</td>\n",
       "      <td>NaN</td>\n",
       "      <td>NaN</td>\n",
       "      <td>NaN</td>\n",
       "      <td>NaN</td>\n",
       "      <td>NaN</td>\n",
       "      <td>NaN</td>\n",
       "      <td>1</td>\n",
       "      <td>5</td>\n",
       "      <td>0.0</td>\n",
       "      <td>0.0</td>\n",
       "    </tr>\n",
       "    <tr>\n",
       "      <th>420138</th>\n",
       "      <td>10</td>\n",
       "      <td>11/12/2019</td>\n",
       "      <td>CTUOR</td>\n",
       "      <td>NaN</td>\n",
       "      <td>217.0</td>\n",
       "      <td>NaN</td>\n",
       "      <td>NaN</td>\n",
       "      <td>NaN</td>\n",
       "      <td>NaN</td>\n",
       "      <td>NaN</td>\n",
       "      <td>...</td>\n",
       "      <td>NaN</td>\n",
       "      <td>NaN</td>\n",
       "      <td>NaN</td>\n",
       "      <td>NaN</td>\n",
       "      <td>NaN</td>\n",
       "      <td>NaN</td>\n",
       "      <td>1</td>\n",
       "      <td>5</td>\n",
       "      <td>0.0</td>\n",
       "      <td>0.0</td>\n",
       "    </tr>\n",
       "    <tr>\n",
       "      <th>420139</th>\n",
       "      <td>10</td>\n",
       "      <td>11/12/2019</td>\n",
       "      <td>CTUOR</td>\n",
       "      <td>NaN</td>\n",
       "      <td>217.0</td>\n",
       "      <td>NaN</td>\n",
       "      <td>NaN</td>\n",
       "      <td>NaN</td>\n",
       "      <td>NaN</td>\n",
       "      <td>NaN</td>\n",
       "      <td>...</td>\n",
       "      <td>NaN</td>\n",
       "      <td>NaN</td>\n",
       "      <td>NaN</td>\n",
       "      <td>NaN</td>\n",
       "      <td>NaN</td>\n",
       "      <td>NaN</td>\n",
       "      <td>1</td>\n",
       "      <td>5</td>\n",
       "      <td>0.0</td>\n",
       "      <td>0.0</td>\n",
       "    </tr>\n",
       "    <tr>\n",
       "      <th>420140</th>\n",
       "      <td>10</td>\n",
       "      <td>11/12/2019</td>\n",
       "      <td>CTUOR</td>\n",
       "      <td>NaN</td>\n",
       "      <td>217.0</td>\n",
       "      <td>NaN</td>\n",
       "      <td>NaN</td>\n",
       "      <td>NaN</td>\n",
       "      <td>NaN</td>\n",
       "      <td>NaN</td>\n",
       "      <td>...</td>\n",
       "      <td>NaN</td>\n",
       "      <td>NaN</td>\n",
       "      <td>NaN</td>\n",
       "      <td>NaN</td>\n",
       "      <td>NaN</td>\n",
       "      <td>NaN</td>\n",
       "      <td>1</td>\n",
       "      <td>5</td>\n",
       "      <td>0.0</td>\n",
       "      <td>0.0</td>\n",
       "    </tr>\n",
       "    <tr>\n",
       "      <th>...</th>\n",
       "      <td>...</td>\n",
       "      <td>...</td>\n",
       "      <td>...</td>\n",
       "      <td>...</td>\n",
       "      <td>...</td>\n",
       "      <td>...</td>\n",
       "      <td>...</td>\n",
       "      <td>...</td>\n",
       "      <td>...</td>\n",
       "      <td>...</td>\n",
       "      <td>...</td>\n",
       "      <td>...</td>\n",
       "      <td>...</td>\n",
       "      <td>...</td>\n",
       "      <td>...</td>\n",
       "      <td>...</td>\n",
       "      <td>...</td>\n",
       "      <td>...</td>\n",
       "      <td>...</td>\n",
       "      <td>...</td>\n",
       "      <td>...</td>\n",
       "    </tr>\n",
       "    <tr>\n",
       "      <th>428329</th>\n",
       "      <td>10</td>\n",
       "      <td>11/12/2019</td>\n",
       "      <td>CTUOR</td>\n",
       "      <td>1.0</td>\n",
       "      <td>133.0</td>\n",
       "      <td>231.0</td>\n",
       "      <td>1001.0</td>\n",
       "      <td>232.0</td>\n",
       "      <td>998.0</td>\n",
       "      <td>560.16</td>\n",
       "      <td>...</td>\n",
       "      <td>0.0</td>\n",
       "      <td>219.738481</td>\n",
       "      <td>-85.301319</td>\n",
       "      <td>0.0</td>\n",
       "      <td>221.0</td>\n",
       "      <td>-84.547378</td>\n",
       "      <td>1</td>\n",
       "      <td>5</td>\n",
       "      <td>438.0</td>\n",
       "      <td>234.0</td>\n",
       "    </tr>\n",
       "    <tr>\n",
       "      <th>428330</th>\n",
       "      <td>10</td>\n",
       "      <td>11/12/2019</td>\n",
       "      <td>CTUOR</td>\n",
       "      <td>0.0</td>\n",
       "      <td>100.0</td>\n",
       "      <td>NaN</td>\n",
       "      <td>NaN</td>\n",
       "      <td>289.0</td>\n",
       "      <td>940.0</td>\n",
       "      <td>559.86</td>\n",
       "      <td>...</td>\n",
       "      <td>0.0</td>\n",
       "      <td>166.865215</td>\n",
       "      <td>-103.869686</td>\n",
       "      <td>NaN</td>\n",
       "      <td>NaN</td>\n",
       "      <td>NaN</td>\n",
       "      <td>1</td>\n",
       "      <td>5</td>\n",
       "      <td>438.0</td>\n",
       "      <td>234.0</td>\n",
       "    </tr>\n",
       "    <tr>\n",
       "      <th>428331</th>\n",
       "      <td>10</td>\n",
       "      <td>11/12/2019</td>\n",
       "      <td>CTUOR</td>\n",
       "      <td>0.0</td>\n",
       "      <td>100.0</td>\n",
       "      <td>NaN</td>\n",
       "      <td>NaN</td>\n",
       "      <td>470.0</td>\n",
       "      <td>727.0</td>\n",
       "      <td>559.57</td>\n",
       "      <td>...</td>\n",
       "      <td>0.0</td>\n",
       "      <td>253.712436</td>\n",
       "      <td>175.705217</td>\n",
       "      <td>NaN</td>\n",
       "      <td>NaN</td>\n",
       "      <td>NaN</td>\n",
       "      <td>1</td>\n",
       "      <td>5</td>\n",
       "      <td>438.0</td>\n",
       "      <td>234.0</td>\n",
       "    </tr>\n",
       "    <tr>\n",
       "      <th>428332</th>\n",
       "      <td>10</td>\n",
       "      <td>11/12/2019</td>\n",
       "      <td>CTUOR</td>\n",
       "      <td>0.0</td>\n",
       "      <td>100.0</td>\n",
       "      <td>NaN</td>\n",
       "      <td>NaN</td>\n",
       "      <td>568.0</td>\n",
       "      <td>533.0</td>\n",
       "      <td>559.19</td>\n",
       "      <td>...</td>\n",
       "      <td>0.0</td>\n",
       "      <td>462.058438</td>\n",
       "      <td>165.332175</td>\n",
       "      <td>NaN</td>\n",
       "      <td>NaN</td>\n",
       "      <td>NaN</td>\n",
       "      <td>1</td>\n",
       "      <td>5</td>\n",
       "      <td>438.0</td>\n",
       "      <td>234.0</td>\n",
       "    </tr>\n",
       "    <tr>\n",
       "      <th>428333</th>\n",
       "      <td>10</td>\n",
       "      <td>11/12/2019</td>\n",
       "      <td>CTUOR</td>\n",
       "      <td>0.0</td>\n",
       "      <td>100.0</td>\n",
       "      <td>NaN</td>\n",
       "      <td>NaN</td>\n",
       "      <td>572.0</td>\n",
       "      <td>505.0</td>\n",
       "      <td>559.19</td>\n",
       "      <td>...</td>\n",
       "      <td>0.0</td>\n",
       "      <td>468.175181</td>\n",
       "      <td>15.104849</td>\n",
       "      <td>NaN</td>\n",
       "      <td>NaN</td>\n",
       "      <td>NaN</td>\n",
       "      <td>1</td>\n",
       "      <td>5</td>\n",
       "      <td>438.0</td>\n",
       "      <td>234.0</td>\n",
       "    </tr>\n",
       "  </tbody>\n",
       "</table>\n",
       "<p>8198 rows × 35 columns</p>\n",
       "</div>"
      ],
      "text/plain": [
       "        ID        Date MediaName  EventType  EventDuration  FixationX  \\\n",
       "420136  10  11/12/2019     CTUOR        NaN          217.0        NaN   \n",
       "420137  10  11/12/2019     CTUOR        NaN          217.0        NaN   \n",
       "420138  10  11/12/2019     CTUOR        NaN          217.0        NaN   \n",
       "420139  10  11/12/2019     CTUOR        NaN          217.0        NaN   \n",
       "420140  10  11/12/2019     CTUOR        NaN          217.0        NaN   \n",
       "...     ..         ...       ...        ...            ...        ...   \n",
       "428329  10  11/12/2019     CTUOR        1.0          133.0      231.0   \n",
       "428330  10  11/12/2019     CTUOR        0.0          100.0        NaN   \n",
       "428331  10  11/12/2019     CTUOR        0.0          100.0        NaN   \n",
       "428332  10  11/12/2019     CTUOR        0.0          100.0        NaN   \n",
       "428333  10  11/12/2019     CTUOR        0.0          100.0        NaN   \n",
       "\n",
       "        FixationY  GazeX  GazeY  DistanceLeft  ...  GazeLoc       GazeR  \\\n",
       "420136        NaN    NaN    NaN           NaN  ...      NaN         NaN   \n",
       "420137        NaN    NaN    NaN           NaN  ...      NaN         NaN   \n",
       "420138        NaN    NaN    NaN           NaN  ...      NaN         NaN   \n",
       "420139        NaN    NaN    NaN           NaN  ...      NaN         NaN   \n",
       "420140        NaN    NaN    NaN           NaN  ...      NaN         NaN   \n",
       "...           ...    ...    ...           ...  ...      ...         ...   \n",
       "428329     1001.0  232.0  998.0        560.16  ...      0.0  219.738481   \n",
       "428330        NaN  289.0  940.0        559.86  ...      0.0  166.865215   \n",
       "428331        NaN  470.0  727.0        559.57  ...      0.0  253.712436   \n",
       "428332        NaN  568.0  533.0        559.19  ...      0.0  462.058438   \n",
       "428333        NaN  572.0  505.0        559.19  ...      0.0  468.175181   \n",
       "\n",
       "         GazeTheta  FixationLoc  FixationR  FixationTheta  PhaseType  nLocs  \\\n",
       "420136         NaN          NaN        NaN            NaN          1      5   \n",
       "420137         NaN          NaN        NaN            NaN          1      5   \n",
       "420138         NaN          NaN        NaN            NaN          1      5   \n",
       "420139         NaN          NaN        NaN            NaN          1      5   \n",
       "420140         NaN          NaN        NaN            NaN          1      5   \n",
       "...            ...          ...        ...            ...        ...    ...   \n",
       "428329  -85.301319          0.0      221.0     -84.547378          1      5   \n",
       "428330 -103.869686          NaN        NaN            NaN          1      5   \n",
       "428331  175.705217          NaN        NaN            NaN          1      5   \n",
       "428332  165.332175          NaN        NaN            NaN          1      5   \n",
       "428333   15.104849          NaN        NaN            NaN          1      5   \n",
       "\n",
       "        GazeLocN  FixationLocN  \n",
       "420136       0.0           0.0  \n",
       "420137       0.0           0.0  \n",
       "420138       0.0           0.0  \n",
       "420139       0.0           0.0  \n",
       "420140       0.0           0.0  \n",
       "...          ...           ...  \n",
       "428329     438.0         234.0  \n",
       "428330     438.0         234.0  \n",
       "428331     438.0         234.0  \n",
       "428332     438.0         234.0  \n",
       "428333     438.0         234.0  \n",
       "\n",
       "[8198 rows x 35 columns]"
      ]
     },
     "execution_count": 216,
     "metadata": {},
     "output_type": "execute_result"
    }
   ],
   "source": [
    "dfs"
   ]
  },
  {
   "cell_type": "code",
   "execution_count": null,
   "metadata": {},
   "outputs": [],
   "source": []
  },
  {
   "cell_type": "code",
   "execution_count": null,
   "metadata": {},
   "outputs": [],
   "source": []
  },
  {
   "cell_type": "code",
   "execution_count": null,
   "metadata": {},
   "outputs": [],
   "source": []
  },
  {
   "cell_type": "code",
   "execution_count": 134,
   "metadata": {},
   "outputs": [
    {
     "data": {
      "text/plain": [
       "array([        nan, 1.70000e+01, 1.60000e+01, 1.80000e+01, 1.50000e+01,\n",
       "       1.40000e+01, 3.22211e+05])"
      ]
     },
     "execution_count": 134,
     "metadata": {},
     "output_type": "execute_result"
    }
   ],
   "source": [
    "df.loc[df.PhaseName == '28_Black_Screen'].Timestamp.diff().unique()"
   ]
  },
  {
   "cell_type": "code",
   "execution_count": null,
   "metadata": {},
   "outputs": [],
   "source": []
  },
  {
   "cell_type": "code",
   "execution_count": null,
   "metadata": {},
   "outputs": [],
   "source": [
    "# dfs.FixationLoc.value_counts()\n",
    "# dfs.groupby('FixationLocN').FixationR.mean().hist(bins=300)"
   ]
  },
  {
   "cell_type": "code",
   "execution_count": null,
   "metadata": {},
   "outputs": [],
   "source": []
  },
  {
   "cell_type": "code",
   "execution_count": 103,
   "metadata": {},
   "outputs": [
    {
     "data": {
      "text/plain": [
       "150.0    70084\n",
       "167.0    69692\n",
       "183.0    69411\n",
       "200.0    63137\n",
       "67.0     60529\n",
       "83.0     57753\n",
       "133.0    53665\n",
       "233.0    50183\n",
       "50.0     49599\n",
       "100.0    45872\n",
       "33.0     44745\n",
       "250.0    43436\n",
       "117.0    41244\n",
       "17.0     40468\n",
       "217.0    39936\n",
       "283.0    36009\n",
       "300.0    33644\n",
       "316.0    27751\n",
       "266.0    27520\n",
       "333.0    26735\n",
       "Name: EventDuration, dtype: int64"
      ]
     },
     "execution_count": 103,
     "metadata": {},
     "output_type": "execute_result"
    }
   ],
   "source": [
    "df.EventDuration.value_counts().sort_values(ascending=False).iloc[:20]"
   ]
  },
  {
   "cell_type": "code",
   "execution_count": 104,
   "metadata": {},
   "outputs": [
    {
     "data": {
      "text/plain": [
       " 17.0        997091\n",
       " 16.0        526349\n",
       " 18.0          1762\n",
       " 15.0          1292\n",
       " 14.0           244\n",
       " 19.0            23\n",
       " 12.0             2\n",
       " 20.0             2\n",
       "-212275.0         2\n",
       "-212075.0         2\n",
       "-8910.0           1\n",
       "-12224.0          1\n",
       "-169440.0         1\n",
       "-10425.0          1\n",
       "-166210.0         1\n",
       "-152987.0         1\n",
       "-8860.0           1\n",
       "-157216.0         1\n",
       "-8960.0           1\n",
       " 146808.0         1\n",
       "Name: Timestamp, dtype: int64"
      ]
     },
     "execution_count": 104,
     "metadata": {},
     "output_type": "execute_result"
    }
   ],
   "source": [
    "df.Timestamp.diff().value_counts().sort_values(ascending=False).iloc[:20]"
   ]
  },
  {
   "cell_type": "code",
   "execution_count": 108,
   "metadata": {},
   "outputs": [
    {
     "data": {
      "text/plain": [
       "[(0, 0.0),\n",
       " (1, 0.0),\n",
       " (1, 0.0),\n",
       " (1, 0.0),\n",
       " (1, 0.0),\n",
       " (1, 0.0),\n",
       " (1, 0.0),\n",
       " (1, 0.0),\n",
       " (1, 0.0),\n",
       " (1, 0.0),\n",
       " (1, 0.0),\n",
       " (1, 0.0),\n",
       " (1, 0.0),\n",
       " (1, 0.0),\n",
       " (1, 0.0),\n",
       " (1, 0.0),\n",
       " (1, 0.0),\n",
       " (1, 0.0),\n",
       " (1, 0.0),\n",
       " (1, 0.0),\n",
       " (1, 0.0),\n",
       " (1, 0.0),\n",
       " (1, 0.0),\n",
       " (1, 0.0),\n",
       " (1, 0.0),\n",
       " (1, 0.0),\n",
       " (1, 0.0),\n",
       " (1, 0.0),\n",
       " (1, 0.0),\n",
       " (1, 0.0),\n",
       " (1, 0.0),\n",
       " (1, 0.0),\n",
       " (1, 0.0),\n",
       " (1, 0.0),\n",
       " (1, 0.0),\n",
       " (1, 0.0),\n",
       " (1, 0.0),\n",
       " (1, 0.0),\n",
       " (1, 0.0),\n",
       " (1, 0.0)]"
      ]
     },
     "execution_count": 108,
     "metadata": {},
     "output_type": "execute_result"
    }
   ],
   "source": [
    "list(zip(dfs.groupby('GazeLocN').GazeR.count().sort_values().iloc[:40].tolist(), \n",
    "           dfs.groupby('GazeLocN').EventDuration.std().sort_values().iloc[:40].tolist()))"
   ]
  },
  {
   "cell_type": "code",
   "execution_count": null,
   "metadata": {},
   "outputs": [],
   "source": []
  },
  {
   "cell_type": "code",
   "execution_count": 76,
   "metadata": {},
   "outputs": [
    {
     "data": {
      "text/html": [
       "<div>\n",
       "<style scoped>\n",
       "    .dataframe tbody tr th:only-of-type {\n",
       "        vertical-align: middle;\n",
       "    }\n",
       "\n",
       "    .dataframe tbody tr th {\n",
       "        vertical-align: top;\n",
       "    }\n",
       "\n",
       "    .dataframe thead th {\n",
       "        text-align: right;\n",
       "    }\n",
       "</style>\n",
       "<table border=\"1\" class=\"dataframe\">\n",
       "  <thead>\n",
       "    <tr style=\"text-align: right;\">\n",
       "      <th></th>\n",
       "      <th>ID</th>\n",
       "      <th>Date</th>\n",
       "      <th>MediaName</th>\n",
       "      <th>EventType</th>\n",
       "      <th>EventDuration</th>\n",
       "      <th>FixationX</th>\n",
       "      <th>FixationY</th>\n",
       "      <th>GazeX</th>\n",
       "      <th>GazeY</th>\n",
       "      <th>DistanceLeft</th>\n",
       "      <th>...</th>\n",
       "      <th>GazeLoc</th>\n",
       "      <th>GazeR</th>\n",
       "      <th>GazeTheta</th>\n",
       "      <th>FixationLoc</th>\n",
       "      <th>FixationR</th>\n",
       "      <th>FixationTheta</th>\n",
       "      <th>PhaseType</th>\n",
       "      <th>nLocs</th>\n",
       "      <th>GazeLocN</th>\n",
       "      <th>FixationLocN</th>\n",
       "    </tr>\n",
       "  </thead>\n",
       "  <tbody>\n",
       "    <tr>\n",
       "      <th>420136</th>\n",
       "      <td>10</td>\n",
       "      <td>11/12/2019</td>\n",
       "      <td>CTUOR</td>\n",
       "      <td>NaN</td>\n",
       "      <td>217.0</td>\n",
       "      <td>NaN</td>\n",
       "      <td>NaN</td>\n",
       "      <td>NaN</td>\n",
       "      <td>NaN</td>\n",
       "      <td>NaN</td>\n",
       "      <td>...</td>\n",
       "      <td>NaN</td>\n",
       "      <td>NaN</td>\n",
       "      <td>NaN</td>\n",
       "      <td>NaN</td>\n",
       "      <td>NaN</td>\n",
       "      <td>NaN</td>\n",
       "      <td>1</td>\n",
       "      <td>5</td>\n",
       "      <td>0.0</td>\n",
       "      <td>0.0</td>\n",
       "    </tr>\n",
       "    <tr>\n",
       "      <th>420137</th>\n",
       "      <td>10</td>\n",
       "      <td>11/12/2019</td>\n",
       "      <td>CTUOR</td>\n",
       "      <td>NaN</td>\n",
       "      <td>217.0</td>\n",
       "      <td>NaN</td>\n",
       "      <td>NaN</td>\n",
       "      <td>NaN</td>\n",
       "      <td>NaN</td>\n",
       "      <td>NaN</td>\n",
       "      <td>...</td>\n",
       "      <td>NaN</td>\n",
       "      <td>NaN</td>\n",
       "      <td>NaN</td>\n",
       "      <td>NaN</td>\n",
       "      <td>NaN</td>\n",
       "      <td>NaN</td>\n",
       "      <td>1</td>\n",
       "      <td>5</td>\n",
       "      <td>0.0</td>\n",
       "      <td>0.0</td>\n",
       "    </tr>\n",
       "    <tr>\n",
       "      <th>420138</th>\n",
       "      <td>10</td>\n",
       "      <td>11/12/2019</td>\n",
       "      <td>CTUOR</td>\n",
       "      <td>NaN</td>\n",
       "      <td>217.0</td>\n",
       "      <td>NaN</td>\n",
       "      <td>NaN</td>\n",
       "      <td>NaN</td>\n",
       "      <td>NaN</td>\n",
       "      <td>NaN</td>\n",
       "      <td>...</td>\n",
       "      <td>NaN</td>\n",
       "      <td>NaN</td>\n",
       "      <td>NaN</td>\n",
       "      <td>NaN</td>\n",
       "      <td>NaN</td>\n",
       "      <td>NaN</td>\n",
       "      <td>1</td>\n",
       "      <td>5</td>\n",
       "      <td>0.0</td>\n",
       "      <td>0.0</td>\n",
       "    </tr>\n",
       "    <tr>\n",
       "      <th>420139</th>\n",
       "      <td>10</td>\n",
       "      <td>11/12/2019</td>\n",
       "      <td>CTUOR</td>\n",
       "      <td>NaN</td>\n",
       "      <td>217.0</td>\n",
       "      <td>NaN</td>\n",
       "      <td>NaN</td>\n",
       "      <td>NaN</td>\n",
       "      <td>NaN</td>\n",
       "      <td>NaN</td>\n",
       "      <td>...</td>\n",
       "      <td>NaN</td>\n",
       "      <td>NaN</td>\n",
       "      <td>NaN</td>\n",
       "      <td>NaN</td>\n",
       "      <td>NaN</td>\n",
       "      <td>NaN</td>\n",
       "      <td>1</td>\n",
       "      <td>5</td>\n",
       "      <td>0.0</td>\n",
       "      <td>0.0</td>\n",
       "    </tr>\n",
       "    <tr>\n",
       "      <th>420140</th>\n",
       "      <td>10</td>\n",
       "      <td>11/12/2019</td>\n",
       "      <td>CTUOR</td>\n",
       "      <td>NaN</td>\n",
       "      <td>217.0</td>\n",
       "      <td>NaN</td>\n",
       "      <td>NaN</td>\n",
       "      <td>NaN</td>\n",
       "      <td>NaN</td>\n",
       "      <td>NaN</td>\n",
       "      <td>...</td>\n",
       "      <td>NaN</td>\n",
       "      <td>NaN</td>\n",
       "      <td>NaN</td>\n",
       "      <td>NaN</td>\n",
       "      <td>NaN</td>\n",
       "      <td>NaN</td>\n",
       "      <td>1</td>\n",
       "      <td>5</td>\n",
       "      <td>0.0</td>\n",
       "      <td>0.0</td>\n",
       "    </tr>\n",
       "    <tr>\n",
       "      <th>...</th>\n",
       "      <td>...</td>\n",
       "      <td>...</td>\n",
       "      <td>...</td>\n",
       "      <td>...</td>\n",
       "      <td>...</td>\n",
       "      <td>...</td>\n",
       "      <td>...</td>\n",
       "      <td>...</td>\n",
       "      <td>...</td>\n",
       "      <td>...</td>\n",
       "      <td>...</td>\n",
       "      <td>...</td>\n",
       "      <td>...</td>\n",
       "      <td>...</td>\n",
       "      <td>...</td>\n",
       "      <td>...</td>\n",
       "      <td>...</td>\n",
       "      <td>...</td>\n",
       "      <td>...</td>\n",
       "      <td>...</td>\n",
       "      <td>...</td>\n",
       "    </tr>\n",
       "    <tr>\n",
       "      <th>428329</th>\n",
       "      <td>10</td>\n",
       "      <td>11/12/2019</td>\n",
       "      <td>CTUOR</td>\n",
       "      <td>1.0</td>\n",
       "      <td>133.0</td>\n",
       "      <td>231.0</td>\n",
       "      <td>1001.0</td>\n",
       "      <td>232.0</td>\n",
       "      <td>998.0</td>\n",
       "      <td>560.16</td>\n",
       "      <td>...</td>\n",
       "      <td>0.0</td>\n",
       "      <td>219.738481</td>\n",
       "      <td>-85.301319</td>\n",
       "      <td>0.0</td>\n",
       "      <td>221.0</td>\n",
       "      <td>-84.547378</td>\n",
       "      <td>1</td>\n",
       "      <td>5</td>\n",
       "      <td>438.0</td>\n",
       "      <td>234.0</td>\n",
       "    </tr>\n",
       "    <tr>\n",
       "      <th>428330</th>\n",
       "      <td>10</td>\n",
       "      <td>11/12/2019</td>\n",
       "      <td>CTUOR</td>\n",
       "      <td>0.0</td>\n",
       "      <td>100.0</td>\n",
       "      <td>NaN</td>\n",
       "      <td>NaN</td>\n",
       "      <td>289.0</td>\n",
       "      <td>940.0</td>\n",
       "      <td>559.86</td>\n",
       "      <td>...</td>\n",
       "      <td>0.0</td>\n",
       "      <td>166.865215</td>\n",
       "      <td>-103.869686</td>\n",
       "      <td>NaN</td>\n",
       "      <td>NaN</td>\n",
       "      <td>NaN</td>\n",
       "      <td>1</td>\n",
       "      <td>5</td>\n",
       "      <td>438.0</td>\n",
       "      <td>234.0</td>\n",
       "    </tr>\n",
       "    <tr>\n",
       "      <th>428331</th>\n",
       "      <td>10</td>\n",
       "      <td>11/12/2019</td>\n",
       "      <td>CTUOR</td>\n",
       "      <td>0.0</td>\n",
       "      <td>100.0</td>\n",
       "      <td>NaN</td>\n",
       "      <td>NaN</td>\n",
       "      <td>470.0</td>\n",
       "      <td>727.0</td>\n",
       "      <td>559.57</td>\n",
       "      <td>...</td>\n",
       "      <td>0.0</td>\n",
       "      <td>253.712436</td>\n",
       "      <td>175.705217</td>\n",
       "      <td>NaN</td>\n",
       "      <td>NaN</td>\n",
       "      <td>NaN</td>\n",
       "      <td>1</td>\n",
       "      <td>5</td>\n",
       "      <td>438.0</td>\n",
       "      <td>234.0</td>\n",
       "    </tr>\n",
       "    <tr>\n",
       "      <th>428332</th>\n",
       "      <td>10</td>\n",
       "      <td>11/12/2019</td>\n",
       "      <td>CTUOR</td>\n",
       "      <td>0.0</td>\n",
       "      <td>100.0</td>\n",
       "      <td>NaN</td>\n",
       "      <td>NaN</td>\n",
       "      <td>568.0</td>\n",
       "      <td>533.0</td>\n",
       "      <td>559.19</td>\n",
       "      <td>...</td>\n",
       "      <td>0.0</td>\n",
       "      <td>462.058438</td>\n",
       "      <td>165.332175</td>\n",
       "      <td>NaN</td>\n",
       "      <td>NaN</td>\n",
       "      <td>NaN</td>\n",
       "      <td>1</td>\n",
       "      <td>5</td>\n",
       "      <td>438.0</td>\n",
       "      <td>234.0</td>\n",
       "    </tr>\n",
       "    <tr>\n",
       "      <th>428333</th>\n",
       "      <td>10</td>\n",
       "      <td>11/12/2019</td>\n",
       "      <td>CTUOR</td>\n",
       "      <td>0.0</td>\n",
       "      <td>100.0</td>\n",
       "      <td>NaN</td>\n",
       "      <td>NaN</td>\n",
       "      <td>572.0</td>\n",
       "      <td>505.0</td>\n",
       "      <td>559.19</td>\n",
       "      <td>...</td>\n",
       "      <td>0.0</td>\n",
       "      <td>468.175181</td>\n",
       "      <td>15.104849</td>\n",
       "      <td>NaN</td>\n",
       "      <td>NaN</td>\n",
       "      <td>NaN</td>\n",
       "      <td>1</td>\n",
       "      <td>5</td>\n",
       "      <td>438.0</td>\n",
       "      <td>234.0</td>\n",
       "    </tr>\n",
       "  </tbody>\n",
       "</table>\n",
       "<p>8198 rows × 35 columns</p>\n",
       "</div>"
      ],
      "text/plain": [
       "        ID        Date MediaName  EventType  EventDuration  FixationX  \\\n",
       "420136  10  11/12/2019     CTUOR        NaN          217.0        NaN   \n",
       "420137  10  11/12/2019     CTUOR        NaN          217.0        NaN   \n",
       "420138  10  11/12/2019     CTUOR        NaN          217.0        NaN   \n",
       "420139  10  11/12/2019     CTUOR        NaN          217.0        NaN   \n",
       "420140  10  11/12/2019     CTUOR        NaN          217.0        NaN   \n",
       "...     ..         ...       ...        ...            ...        ...   \n",
       "428329  10  11/12/2019     CTUOR        1.0          133.0      231.0   \n",
       "428330  10  11/12/2019     CTUOR        0.0          100.0        NaN   \n",
       "428331  10  11/12/2019     CTUOR        0.0          100.0        NaN   \n",
       "428332  10  11/12/2019     CTUOR        0.0          100.0        NaN   \n",
       "428333  10  11/12/2019     CTUOR        0.0          100.0        NaN   \n",
       "\n",
       "        FixationY  GazeX  GazeY  DistanceLeft  ...  GazeLoc       GazeR  \\\n",
       "420136        NaN    NaN    NaN           NaN  ...      NaN         NaN   \n",
       "420137        NaN    NaN    NaN           NaN  ...      NaN         NaN   \n",
       "420138        NaN    NaN    NaN           NaN  ...      NaN         NaN   \n",
       "420139        NaN    NaN    NaN           NaN  ...      NaN         NaN   \n",
       "420140        NaN    NaN    NaN           NaN  ...      NaN         NaN   \n",
       "...           ...    ...    ...           ...  ...      ...         ...   \n",
       "428329     1001.0  232.0  998.0        560.16  ...      0.0  219.738481   \n",
       "428330        NaN  289.0  940.0        559.86  ...      0.0  166.865215   \n",
       "428331        NaN  470.0  727.0        559.57  ...      0.0  253.712436   \n",
       "428332        NaN  568.0  533.0        559.19  ...      0.0  462.058438   \n",
       "428333        NaN  572.0  505.0        559.19  ...      0.0  468.175181   \n",
       "\n",
       "         GazeTheta  FixationLoc  FixationR  FixationTheta  PhaseType  nLocs  \\\n",
       "420136         NaN          NaN        NaN            NaN          1      5   \n",
       "420137         NaN          NaN        NaN            NaN          1      5   \n",
       "420138         NaN          NaN        NaN            NaN          1      5   \n",
       "420139         NaN          NaN        NaN            NaN          1      5   \n",
       "420140         NaN          NaN        NaN            NaN          1      5   \n",
       "...            ...          ...        ...            ...        ...    ...   \n",
       "428329  -85.301319          0.0      221.0     -84.547378          1      5   \n",
       "428330 -103.869686          NaN        NaN            NaN          1      5   \n",
       "428331  175.705217          NaN        NaN            NaN          1      5   \n",
       "428332  165.332175          NaN        NaN            NaN          1      5   \n",
       "428333   15.104849          NaN        NaN            NaN          1      5   \n",
       "\n",
       "        GazeLocN  FixationLocN  \n",
       "420136       0.0           0.0  \n",
       "420137       0.0           0.0  \n",
       "420138       0.0           0.0  \n",
       "420139       0.0           0.0  \n",
       "420140       0.0           0.0  \n",
       "...          ...           ...  \n",
       "428329     438.0         234.0  \n",
       "428330     438.0         234.0  \n",
       "428331     438.0         234.0  \n",
       "428332     438.0         234.0  \n",
       "428333     438.0         234.0  \n",
       "\n",
       "[8198 rows x 35 columns]"
      ]
     },
     "execution_count": 76,
     "metadata": {},
     "output_type": "execute_result"
    }
   ],
   "source": [
    "dfs"
   ]
  },
  {
   "cell_type": "code",
   "execution_count": 78,
   "metadata": {},
   "outputs": [
    {
     "data": {
      "text/plain": [
       "<matplotlib.axes._subplots.AxesSubplot at 0x7f8b7ee93d90>"
      ]
     },
     "execution_count": 78,
     "metadata": {},
     "output_type": "execute_result"
    },
    {
     "data": {
      "image/png": "[encoded data removed]",
      "text/plain": [
       "<Figure size 432x288 with 1 Axes>"
      ]
     },
     "metadata": {
      "needs_background": "light"
     },
     "output_type": "display_data"
    }
   ],
   "source": [
    "dfs.groupby('GazeLocN').EventDuration.sum().hist(bins=300)"
   ]
  },
  {
   "cell_type": "code",
   "execution_count": null,
   "metadata": {},
   "outputs": [],
   "source": []
  },
  {
   "cell_type": "code",
   "execution_count": null,
   "metadata": {},
   "outputs": [],
   "source": []
  },
  {
   "cell_type": "code",
   "execution_count": null,
   "metadata": {},
   "outputs": [],
   "source": []
  },
  {
   "cell_type": "code",
   "execution_count": null,
   "metadata": {},
   "outputs": [],
   "source": []
  },
  {
   "cell_type": "code",
   "execution_count": 60,
   "metadata": {},
   "outputs": [
    {
     "data": {
      "text/plain": [
       "FixationLocN\n",
       "67.0        666.0\n",
       "107.0       749.0\n",
       "28.0        766.0\n",
       "167.0       885.0\n",
       "123.0       969.0\n",
       "           ...   \n",
       "183.0     68160.0\n",
       "157.0     76765.0\n",
       "50.0      81383.0\n",
       "198.0     97897.0\n",
       "148.0    114359.0\n",
       "Name: EventDuration, Length: 235, dtype: float64"
      ]
     },
     "execution_count": 60,
     "metadata": {},
     "output_type": "execute_result"
    }
   ],
   "source": [
    "dfs.groupby('FixationLocN').EventDuration.sum().sort_values()"
   ]
  },
  {
   "cell_type": "code",
   "execution_count": null,
   "metadata": {},
   "outputs": [],
   "source": []
  },
  {
   "cell_type": "code",
   "execution_count": null,
   "metadata": {},
   "outputs": [],
   "source": []
  },
  {
   "cell_type": "code",
   "execution_count": null,
   "metadata": {},
   "outputs": [],
   "source": []
  },
  {
   "cell_type": "code",
   "execution_count": null,
   "metadata": {},
   "outputs": [],
   "source": []
  },
  {
   "cell_type": "code",
   "execution_count": null,
   "metadata": {},
   "outputs": [],
   "source": []
  },
  {
   "cell_type": "code",
   "execution_count": null,
   "metadata": {},
   "outputs": [],
   "source": []
  },
  {
   "cell_type": "code",
   "execution_count": null,
   "metadata": {},
   "outputs": [],
   "source": []
  },
  {
   "cell_type": "code",
   "execution_count": null,
   "metadata": {},
   "outputs": [],
   "source": []
  },
  {
   "cell_type": "code",
   "execution_count": null,
   "metadata": {},
   "outputs": [],
   "source": []
  },
  {
   "cell_type": "code",
   "execution_count": null,
   "metadata": {},
   "outputs": [],
   "source": []
  },
  {
   "cell_type": "code",
   "execution_count": null,
   "metadata": {},
   "outputs": [],
   "source": []
  },
  {
   "cell_type": "code",
   "execution_count": null,
   "metadata": {},
   "outputs": [],
   "source": []
  },
  {
   "cell_type": "code",
   "execution_count": null,
   "metadata": {},
   "outputs": [],
   "source": []
  },
  {
   "cell_type": "code",
   "execution_count": null,
   "metadata": {},
   "outputs": [],
   "source": []
  },
  {
   "cell_type": "code",
   "execution_count": null,
   "metadata": {},
   "outputs": [],
   "source": []
  },
  {
   "cell_type": "code",
   "execution_count": null,
   "metadata": {},
   "outputs": [],
   "source": []
  },
  {
   "cell_type": "markdown",
   "metadata": {},
   "source": [
    "### Steps\n",
    "\n",
    "1. Iterate by `PhaseName`\n",
    "2. If Gaze radius and? Fixation radius are greater than some set number of pixels, set the location to 0. \n",
    "3. If the shifted Loc is not equal to the Loc, and the regular Loc is not NaN, save those indices.\n",
    "3. Make a LocChange column, set the entries of those indices equal to 1 (the rest being zero). \n",
    "4. Make a cumulative sum of that column, so that each \n"
   ]
  },
  {
   "cell_type": "code",
   "execution_count": null,
   "metadata": {},
   "outputs": [],
   "source": []
  },
  {
   "cell_type": "code",
   "execution_count": null,
   "metadata": {},
   "outputs": [],
   "source": []
  }
 ],
 "metadata": {
  "kernelspec": {
   "display_name": "Python 3",
   "language": "python",
   "name": "python3"
  },
  "language_info": {
   "codemirror_mode": {
    "name": "ipython",
    "version": 3
   },
   "file_extension": ".py",
   "mimetype": "text/x-python",
   "name": "python",
   "nbconvert_exporter": "python",
   "pygments_lexer": "ipython3",
   "version": "3.8.3"
  }
 },
 "nbformat": 4,
 "nbformat_minor": 4
}
