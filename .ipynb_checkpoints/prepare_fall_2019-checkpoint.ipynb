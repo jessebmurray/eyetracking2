{
 "cells": [
  {
   "cell_type": "code",
   "execution_count": 1,
   "metadata": {},
   "outputs": [],
   "source": [
    "import pandas as pd\n",
    "import numpy as np\n",
    "import matplotlib.pyplot as plt\n",
    "import swifter"
   ]
  },
  {
   "cell_type": "markdown",
   "metadata": {},
   "source": [
    "The total runtime of this notebook is 5-10 minutes depending on your machine. "
   ]
  },
  {
   "cell_type": "markdown",
   "metadata": {},
   "source": [
    "### *Constants to know*"
   ]
  },
  {
   "cell_type": "code",
   "execution_count": 2,
   "metadata": {},
   "outputs": [],
   "source": [
    "# Coordinates of the centers of the letters/numbers \n",
    "# (in x, y pixels from the top left)\n",
    "# Starting from middle left and going clockwise\n",
    "five_coordinates_topleft = [[32, 507], [451, 44], [1131, 222], \n",
    "                           [1132, 793], [450, 971]]\n",
    "six_coordinates_topleft = [[35, 509], [335, 87], [943, 87], \n",
    "                          [1245, 509], [944, 928], [334, 928]]\n",
    "# 3D position of eye in (ADCSmm) measures from bottom left\n",
    "\n",
    "# Dimensions of the screen (x, y in pixels)\n",
    "screen_shape = (1280, 1024)\n",
    "\n",
    "# How we calssify the `GazeEventType` output from Tobii Studio\n",
    "gaze_event_legend = {'Unclassified': np.nan, 'Saccade': 0, 'Fixation': 1}"
   ]
  },
  {
   "cell_type": "markdown",
   "metadata": {},
   "source": [
    "Show locations of the five and six coordinates "
   ]
  },
  {
   "cell_type": "code",
   "execution_count": 3,
   "metadata": {},
   "outputs": [
    {
     "data": {
      "image/png": "[encoded data removed]",
      "text/plain": [
       "<Figure size 576x288 with 2 Axes>"
      ]
     },
     "metadata": {},
     "output_type": "display_data"
    }
   ],
   "source": [
    "plt.style.use('dark_background')\n",
    "fig, (ax1, ax2) = plt.subplots(1, 2, figsize=(8, 4))\n",
    "ax1.scatter(np.array(five_coordinates_topleft).T[0], \n",
    "            np.array(five_coordinates_topleft).T[1], s=7)\n",
    "ax1.set(xlim=(0, screen_shape[0]), ylim=(0, screen_shape[1]))\n",
    "ax1.set_aspect('equal', adjustable='box')\n",
    "ax2.scatter(np.array(six_coordinates_topleft).T[0], \n",
    "            np.array(six_coordinates_topleft).T[1], s=7)\n",
    "ax2.set(xlim=(0, screen_shape[0]), ylim=(0, screen_shape[1]))\n",
    "ax2.set_aspect('equal', adjustable='box');"
   ]
  },
  {
   "cell_type": "markdown",
   "metadata": {},
   "source": [
    "### Load the (cleaned) data"
   ]
  },
  {
   "cell_type": "code",
   "execution_count": 4,
   "metadata": {},
   "outputs": [],
   "source": [
    "df = pd.read_csv('../data/fall_2019_cleaned_total_participant_data.csv')"
   ]
  },
  {
   "cell_type": "code",
   "execution_count": 5,
   "metadata": {},
   "outputs": [
    {
     "data": {
      "text/html": [
       "<div>\n",
       "<style scoped>\n",
       "    .dataframe tbody tr th:only-of-type {\n",
       "        vertical-align: middle;\n",
       "    }\n",
       "\n",
       "    .dataframe tbody tr th {\n",
       "        vertical-align: top;\n",
       "    }\n",
       "\n",
       "    .dataframe thead th {\n",
       "        text-align: right;\n",
       "    }\n",
       "</style>\n",
       "<table border=\"1\" class=\"dataframe\">\n",
       "  <thead>\n",
       "    <tr style=\"text-align: right;\">\n",
       "      <th></th>\n",
       "      <th>ParticipantName</th>\n",
       "      <th>RecordingDate</th>\n",
       "      <th>MediaName</th>\n",
       "      <th>RecordingTimestamp</th>\n",
       "      <th>FixationIndex</th>\n",
       "      <th>GazeEventType</th>\n",
       "      <th>GazeEventDuration</th>\n",
       "      <th>FixationPointX (MCSpx)</th>\n",
       "      <th>FixationPointY (MCSpx)</th>\n",
       "      <th>GazePointX (MCSpx)</th>\n",
       "      <th>...</th>\n",
       "      <th>EyePosLeftY (ADCSmm)</th>\n",
       "      <th>EyePosLeftZ (ADCSmm)</th>\n",
       "      <th>EyePosRightX (ADCSmm)</th>\n",
       "      <th>EyePosRightY (ADCSmm)</th>\n",
       "      <th>EyePosRightZ (ADCSmm)</th>\n",
       "      <th>ValidityLeft</th>\n",
       "      <th>ValidityRight</th>\n",
       "      <th>PupilLeft</th>\n",
       "      <th>PupilRight</th>\n",
       "      <th>SaccadeIndex</th>\n",
       "    </tr>\n",
       "  </thead>\n",
       "  <tbody>\n",
       "    <tr>\n",
       "      <th>0</th>\n",
       "      <td>P01</td>\n",
       "      <td>11/4/2019</td>\n",
       "      <td>NaN</td>\n",
       "      <td>12.0</td>\n",
       "      <td>NaN</td>\n",
       "      <td>Unclassified</td>\n",
       "      <td>8.0</td>\n",
       "      <td>NaN</td>\n",
       "      <td>NaN</td>\n",
       "      <td>NaN</td>\n",
       "      <td>...</td>\n",
       "      <td>133.73</td>\n",
       "      <td>589.20</td>\n",
       "      <td>200.72</td>\n",
       "      <td>130.35</td>\n",
       "      <td>591.33</td>\n",
       "      <td>0.0</td>\n",
       "      <td>0.0</td>\n",
       "      <td>5.49</td>\n",
       "      <td>5.38</td>\n",
       "      <td>NaN</td>\n",
       "    </tr>\n",
       "    <tr>\n",
       "      <th>1</th>\n",
       "      <td>P01</td>\n",
       "      <td>11/4/2019</td>\n",
       "      <td>NaN</td>\n",
       "      <td>29.0</td>\n",
       "      <td>1.0</td>\n",
       "      <td>Fixation</td>\n",
       "      <td>733.0</td>\n",
       "      <td>NaN</td>\n",
       "      <td>NaN</td>\n",
       "      <td>NaN</td>\n",
       "      <td>...</td>\n",
       "      <td>133.75</td>\n",
       "      <td>589.23</td>\n",
       "      <td>200.71</td>\n",
       "      <td>130.36</td>\n",
       "      <td>591.30</td>\n",
       "      <td>0.0</td>\n",
       "      <td>0.0</td>\n",
       "      <td>5.49</td>\n",
       "      <td>5.38</td>\n",
       "      <td>NaN</td>\n",
       "    </tr>\n",
       "    <tr>\n",
       "      <th>2</th>\n",
       "      <td>P01</td>\n",
       "      <td>11/4/2019</td>\n",
       "      <td>NaN</td>\n",
       "      <td>46.0</td>\n",
       "      <td>1.0</td>\n",
       "      <td>Fixation</td>\n",
       "      <td>733.0</td>\n",
       "      <td>NaN</td>\n",
       "      <td>NaN</td>\n",
       "      <td>NaN</td>\n",
       "      <td>...</td>\n",
       "      <td>133.75</td>\n",
       "      <td>589.19</td>\n",
       "      <td>200.70</td>\n",
       "      <td>130.34</td>\n",
       "      <td>591.16</td>\n",
       "      <td>0.0</td>\n",
       "      <td>0.0</td>\n",
       "      <td>5.48</td>\n",
       "      <td>5.39</td>\n",
       "      <td>NaN</td>\n",
       "    </tr>\n",
       "    <tr>\n",
       "      <th>3</th>\n",
       "      <td>P01</td>\n",
       "      <td>11/4/2019</td>\n",
       "      <td>NaN</td>\n",
       "      <td>62.0</td>\n",
       "      <td>1.0</td>\n",
       "      <td>Fixation</td>\n",
       "      <td>733.0</td>\n",
       "      <td>NaN</td>\n",
       "      <td>NaN</td>\n",
       "      <td>NaN</td>\n",
       "      <td>...</td>\n",
       "      <td>133.73</td>\n",
       "      <td>589.12</td>\n",
       "      <td>200.70</td>\n",
       "      <td>130.32</td>\n",
       "      <td>591.12</td>\n",
       "      <td>0.0</td>\n",
       "      <td>0.0</td>\n",
       "      <td>5.49</td>\n",
       "      <td>5.38</td>\n",
       "      <td>NaN</td>\n",
       "    </tr>\n",
       "    <tr>\n",
       "      <th>4</th>\n",
       "      <td>P01</td>\n",
       "      <td>11/4/2019</td>\n",
       "      <td>NaN</td>\n",
       "      <td>79.0</td>\n",
       "      <td>1.0</td>\n",
       "      <td>Fixation</td>\n",
       "      <td>733.0</td>\n",
       "      <td>NaN</td>\n",
       "      <td>NaN</td>\n",
       "      <td>NaN</td>\n",
       "      <td>...</td>\n",
       "      <td>133.68</td>\n",
       "      <td>588.97</td>\n",
       "      <td>200.72</td>\n",
       "      <td>130.33</td>\n",
       "      <td>591.22</td>\n",
       "      <td>0.0</td>\n",
       "      <td>0.0</td>\n",
       "      <td>5.47</td>\n",
       "      <td>5.38</td>\n",
       "      <td>NaN</td>\n",
       "    </tr>\n",
       "    <tr>\n",
       "      <th>...</th>\n",
       "      <td>...</td>\n",
       "      <td>...</td>\n",
       "      <td>...</td>\n",
       "      <td>...</td>\n",
       "      <td>...</td>\n",
       "      <td>...</td>\n",
       "      <td>...</td>\n",
       "      <td>...</td>\n",
       "      <td>...</td>\n",
       "      <td>...</td>\n",
       "      <td>...</td>\n",
       "      <td>...</td>\n",
       "      <td>...</td>\n",
       "      <td>...</td>\n",
       "      <td>...</td>\n",
       "      <td>...</td>\n",
       "      <td>...</td>\n",
       "      <td>...</td>\n",
       "      <td>...</td>\n",
       "      <td>...</td>\n",
       "      <td>...</td>\n",
       "    </tr>\n",
       "    <tr>\n",
       "      <th>1709812</th>\n",
       "      <td>P29</td>\n",
       "      <td>12/6/2019</td>\n",
       "      <td>NaN</td>\n",
       "      <td>730976.0</td>\n",
       "      <td>NaN</td>\n",
       "      <td>Saccade</td>\n",
       "      <td>50.0</td>\n",
       "      <td>NaN</td>\n",
       "      <td>NaN</td>\n",
       "      <td>NaN</td>\n",
       "      <td>...</td>\n",
       "      <td>148.53</td>\n",
       "      <td>642.53</td>\n",
       "      <td>205.62</td>\n",
       "      <td>152.71</td>\n",
       "      <td>641.67</td>\n",
       "      <td>0.0</td>\n",
       "      <td>0.0</td>\n",
       "      <td>4.25</td>\n",
       "      <td>3.94</td>\n",
       "      <td>2294.0</td>\n",
       "    </tr>\n",
       "    <tr>\n",
       "      <th>1709813</th>\n",
       "      <td>P29</td>\n",
       "      <td>12/6/2019</td>\n",
       "      <td>NaN</td>\n",
       "      <td>730993.0</td>\n",
       "      <td>NaN</td>\n",
       "      <td>Saccade</td>\n",
       "      <td>50.0</td>\n",
       "      <td>NaN</td>\n",
       "      <td>NaN</td>\n",
       "      <td>NaN</td>\n",
       "      <td>...</td>\n",
       "      <td>148.64</td>\n",
       "      <td>642.97</td>\n",
       "      <td>206.17</td>\n",
       "      <td>152.90</td>\n",
       "      <td>642.30</td>\n",
       "      <td>0.0</td>\n",
       "      <td>0.0</td>\n",
       "      <td>4.33</td>\n",
       "      <td>3.97</td>\n",
       "      <td>2294.0</td>\n",
       "    </tr>\n",
       "    <tr>\n",
       "      <th>1709814</th>\n",
       "      <td>P29</td>\n",
       "      <td>12/6/2019</td>\n",
       "      <td>NaN</td>\n",
       "      <td>731010.0</td>\n",
       "      <td>NaN</td>\n",
       "      <td>Saccade</td>\n",
       "      <td>50.0</td>\n",
       "      <td>NaN</td>\n",
       "      <td>NaN</td>\n",
       "      <td>NaN</td>\n",
       "      <td>...</td>\n",
       "      <td>148.76</td>\n",
       "      <td>643.35</td>\n",
       "      <td>206.63</td>\n",
       "      <td>153.07</td>\n",
       "      <td>642.97</td>\n",
       "      <td>0.0</td>\n",
       "      <td>0.0</td>\n",
       "      <td>4.30</td>\n",
       "      <td>3.97</td>\n",
       "      <td>2294.0</td>\n",
       "    </tr>\n",
       "    <tr>\n",
       "      <th>1709815</th>\n",
       "      <td>P29</td>\n",
       "      <td>12/6/2019</td>\n",
       "      <td>NaN</td>\n",
       "      <td>731026.0</td>\n",
       "      <td>NaN</td>\n",
       "      <td>Unclassified</td>\n",
       "      <td>25.0</td>\n",
       "      <td>NaN</td>\n",
       "      <td>NaN</td>\n",
       "      <td>NaN</td>\n",
       "      <td>...</td>\n",
       "      <td>148.62</td>\n",
       "      <td>642.96</td>\n",
       "      <td>206.69</td>\n",
       "      <td>152.96</td>\n",
       "      <td>642.69</td>\n",
       "      <td>0.0</td>\n",
       "      <td>0.0</td>\n",
       "      <td>4.37</td>\n",
       "      <td>4.00</td>\n",
       "      <td>NaN</td>\n",
       "    </tr>\n",
       "    <tr>\n",
       "      <th>1709816</th>\n",
       "      <td>P29</td>\n",
       "      <td>12/6/2019</td>\n",
       "      <td>NaN</td>\n",
       "      <td>731043.0</td>\n",
       "      <td>NaN</td>\n",
       "      <td>Unclassified</td>\n",
       "      <td>25.0</td>\n",
       "      <td>NaN</td>\n",
       "      <td>NaN</td>\n",
       "      <td>NaN</td>\n",
       "      <td>...</td>\n",
       "      <td>148.61</td>\n",
       "      <td>642.95</td>\n",
       "      <td>206.71</td>\n",
       "      <td>152.94</td>\n",
       "      <td>642.71</td>\n",
       "      <td>0.0</td>\n",
       "      <td>0.0</td>\n",
       "      <td>4.35</td>\n",
       "      <td>4.00</td>\n",
       "      <td>NaN</td>\n",
       "    </tr>\n",
       "  </tbody>\n",
       "</table>\n",
       "<p>1709817 rows × 24 columns</p>\n",
       "</div>"
      ],
      "text/plain": [
       "        ParticipantName RecordingDate MediaName  RecordingTimestamp  \\\n",
       "0                   P01     11/4/2019       NaN                12.0   \n",
       "1                   P01     11/4/2019       NaN                29.0   \n",
       "2                   P01     11/4/2019       NaN                46.0   \n",
       "3                   P01     11/4/2019       NaN                62.0   \n",
       "4                   P01     11/4/2019       NaN                79.0   \n",
       "...                 ...           ...       ...                 ...   \n",
       "1709812             P29     12/6/2019       NaN            730976.0   \n",
       "1709813             P29     12/6/2019       NaN            730993.0   \n",
       "1709814             P29     12/6/2019       NaN            731010.0   \n",
       "1709815             P29     12/6/2019       NaN            731026.0   \n",
       "1709816             P29     12/6/2019       NaN            731043.0   \n",
       "\n",
       "         FixationIndex GazeEventType  GazeEventDuration  \\\n",
       "0                  NaN  Unclassified                8.0   \n",
       "1                  1.0      Fixation              733.0   \n",
       "2                  1.0      Fixation              733.0   \n",
       "3                  1.0      Fixation              733.0   \n",
       "4                  1.0      Fixation              733.0   \n",
       "...                ...           ...                ...   \n",
       "1709812            NaN       Saccade               50.0   \n",
       "1709813            NaN       Saccade               50.0   \n",
       "1709814            NaN       Saccade               50.0   \n",
       "1709815            NaN  Unclassified               25.0   \n",
       "1709816            NaN  Unclassified               25.0   \n",
       "\n",
       "         FixationPointX (MCSpx)  FixationPointY (MCSpx)  GazePointX (MCSpx)  \\\n",
       "0                           NaN                     NaN                 NaN   \n",
       "1                           NaN                     NaN                 NaN   \n",
       "2                           NaN                     NaN                 NaN   \n",
       "3                           NaN                     NaN                 NaN   \n",
       "4                           NaN                     NaN                 NaN   \n",
       "...                         ...                     ...                 ...   \n",
       "1709812                     NaN                     NaN                 NaN   \n",
       "1709813                     NaN                     NaN                 NaN   \n",
       "1709814                     NaN                     NaN                 NaN   \n",
       "1709815                     NaN                     NaN                 NaN   \n",
       "1709816                     NaN                     NaN                 NaN   \n",
       "\n",
       "         ...  EyePosLeftY (ADCSmm)  EyePosLeftZ (ADCSmm)  \\\n",
       "0        ...                133.73                589.20   \n",
       "1        ...                133.75                589.23   \n",
       "2        ...                133.75                589.19   \n",
       "3        ...                133.73                589.12   \n",
       "4        ...                133.68                588.97   \n",
       "...      ...                   ...                   ...   \n",
       "1709812  ...                148.53                642.53   \n",
       "1709813  ...                148.64                642.97   \n",
       "1709814  ...                148.76                643.35   \n",
       "1709815  ...                148.62                642.96   \n",
       "1709816  ...                148.61                642.95   \n",
       "\n",
       "         EyePosRightX (ADCSmm)  EyePosRightY (ADCSmm)  EyePosRightZ (ADCSmm)  \\\n",
       "0                       200.72                 130.35                 591.33   \n",
       "1                       200.71                 130.36                 591.30   \n",
       "2                       200.70                 130.34                 591.16   \n",
       "3                       200.70                 130.32                 591.12   \n",
       "4                       200.72                 130.33                 591.22   \n",
       "...                        ...                    ...                    ...   \n",
       "1709812                 205.62                 152.71                 641.67   \n",
       "1709813                 206.17                 152.90                 642.30   \n",
       "1709814                 206.63                 153.07                 642.97   \n",
       "1709815                 206.69                 152.96                 642.69   \n",
       "1709816                 206.71                 152.94                 642.71   \n",
       "\n",
       "         ValidityLeft  ValidityRight  PupilLeft  PupilRight  SaccadeIndex  \n",
       "0                 0.0            0.0       5.49        5.38           NaN  \n",
       "1                 0.0            0.0       5.49        5.38           NaN  \n",
       "2                 0.0            0.0       5.48        5.39           NaN  \n",
       "3                 0.0            0.0       5.49        5.38           NaN  \n",
       "4                 0.0            0.0       5.47        5.38           NaN  \n",
       "...               ...            ...        ...         ...           ...  \n",
       "1709812           0.0            0.0       4.25        3.94        2294.0  \n",
       "1709813           0.0            0.0       4.33        3.97        2294.0  \n",
       "1709814           0.0            0.0       4.30        3.97        2294.0  \n",
       "1709815           0.0            0.0       4.37        4.00           NaN  \n",
       "1709816           0.0            0.0       4.35        4.00           NaN  \n",
       "\n",
       "[1709817 rows x 24 columns]"
      ]
     },
     "execution_count": 5,
     "metadata": {},
     "output_type": "execute_result"
    }
   ],
   "source": [
    "df"
   ]
  },
  {
   "cell_type": "markdown",
   "metadata": {},
   "source": [
    "### Get the data types just right"
   ]
  },
  {
   "cell_type": "markdown",
   "metadata": {},
   "source": [
    "#### Fill nan with np.nan \n",
    "This doesn't appear to do anything :("
   ]
  },
  {
   "cell_type": "code",
   "execution_count": 6,
   "metadata": {},
   "outputs": [],
   "source": [
    "df.fillna(np.nan, inplace=True)"
   ]
  },
  {
   "cell_type": "markdown",
   "metadata": {},
   "source": [
    "#### Convert 'Gaze Event Types' to Numbers"
   ]
  },
  {
   "cell_type": "code",
   "execution_count": 7,
   "metadata": {},
   "outputs": [
    {
     "data": {
      "text/plain": [
       "array(['Unclassified', 'Fixation', 'Saccade'], dtype=object)"
      ]
     },
     "execution_count": 7,
     "metadata": {},
     "output_type": "execute_result"
    }
   ],
   "source": [
    "df['GazeEventType'].unique()"
   ]
  },
  {
   "cell_type": "code",
   "execution_count": 8,
   "metadata": {},
   "outputs": [],
   "source": [
    "gaze_event_legend = {'Unclassified': np.nan, 'Saccade': 0, 'Fixation': 1}\n",
    "\n",
    "df['GazeEventType'] = df['GazeEventType'].map(lambda entry: gaze_event_legend[entry])"
   ]
  },
  {
   "cell_type": "markdown",
   "metadata": {},
   "source": [
    "#### Convert 'Participant Name' to ID number"
   ]
  },
  {
   "cell_type": "code",
   "execution_count": 9,
   "metadata": {},
   "outputs": [
    {
     "data": {
      "text/plain": [
       "array(['P01', 'P02', 'P03', 'P04', 'P05', 'P06', 'P07', 'P08', 'P09',\n",
       "       'P10', 'P11', 'P12', 'P13', 'P14', 'P15', 'P22', 'P17', 'P18',\n",
       "       'P20', 'P21', 'P23', 'P24', 'P25', 'P26', 'P27', 'P28', 'P29'],\n",
       "      dtype=object)"
      ]
     },
     "execution_count": 9,
     "metadata": {},
     "output_type": "execute_result"
    }
   ],
   "source": [
    "df.ParticipantName.unique()"
   ]
  },
  {
   "cell_type": "code",
   "execution_count": 10,
   "metadata": {},
   "outputs": [],
   "source": [
    "participant_id_legend = {par: int(par[1:]) for par in df.ParticipantName.unique()}\n",
    "\n",
    "df['ParticipantName'] = df['ParticipantName'].map(lambda entry: participant_id_legend[entry])\n",
    "\n",
    "df.rename(columns={'ParticipantName': 'ID'}, inplace=True)"
   ]
  },
  {
   "cell_type": "markdown",
   "metadata": {},
   "source": [
    "#### Data types look good"
   ]
  },
  {
   "cell_type": "code",
   "execution_count": 11,
   "metadata": {},
   "outputs": [
    {
     "data": {
      "text/plain": [
       "ID                          int64\n",
       "RecordingDate              object\n",
       "MediaName                  object\n",
       "RecordingTimestamp        float64\n",
       "FixationIndex             float64\n",
       "GazeEventType             float64\n",
       "GazeEventDuration         float64\n",
       "FixationPointX (MCSpx)    float64\n",
       "FixationPointY (MCSpx)    float64\n",
       "GazePointX (MCSpx)        float64\n",
       "GazePointY (MCSpx)        float64\n",
       "DistanceLeft              float64\n",
       "DistanceRight             float64\n",
       "EyePosLeftX (ADCSmm)      float64\n",
       "EyePosLeftY (ADCSmm)      float64\n",
       "EyePosLeftZ (ADCSmm)      float64\n",
       "EyePosRightX (ADCSmm)     float64\n",
       "EyePosRightY (ADCSmm)     float64\n",
       "EyePosRightZ (ADCSmm)     float64\n",
       "ValidityLeft              float64\n",
       "ValidityRight             float64\n",
       "PupilLeft                 float64\n",
       "PupilRight                float64\n",
       "SaccadeIndex              float64\n",
       "dtype: object"
      ]
     },
     "execution_count": 11,
     "metadata": {},
     "output_type": "execute_result"
    }
   ],
   "source": [
    "df.dtypes"
   ]
  },
  {
   "cell_type": "markdown",
   "metadata": {},
   "source": [
    "### Drop the NaN Media Names\n",
    "These are confirmed (in the below cell) to be the tiny intervals of time before and after the media show up on the screen "
   ]
  },
  {
   "cell_type": "code",
   "execution_count": 12,
   "metadata": {
    "scrolled": false
   },
   "outputs": [
    {
     "name": "stdout",
     "output_type": "stream",
     "text": [
      "[nan, 17.0, 16.0, 17.0, 17.0, 17.0, 16.0, 17.0, 16.0, 17.0, 17.0, 17.0, 16.0, 17.0, 16.0, 17.0, 17.0, 16.0, 17.0, 17.0, 16.0, 17.0, 16.0, 17.0, 17.0, 16.0, 17.0, 17.0, 17.0, 16.0, 17.0, 16.0, 17.0, 17.0, 16.0, 17.0, 17.0, 16.0, 17.0, 17.0, 16.0, 17.0, 17.0, 16.0, 17.0, 16.0, 17.0, 17.0, 16.0, 91849.0, 17.0, 219471.0, 16.0, 17.0, 17.0, 16.0, 22517.0, 17.0, 16.0, 110818.0, 17.0, 16.0, 17.0, 217388.0, 17.0, 17.0, 16.0, 213975.0, 17.0, 16.0, 17.0, 6645.0, 17.0, 1998.0, 17.0, 16.0, 17.0, 17.0, 1349.0, 16.0, 1316.0, 17.0, 17.0, 16.0, 2165.0, 17.0, 16.0, 17.0, 1482.0, 17.0, 17.0, 1532.0, 17.0, 16.0, 21267.0, 17.0, 17.0, 16.0, 17.0, 17.0, 16.0, 17.0, 17.0, 16.0, 17.0, 17.0, 16.0, 17.0, 17.0, 16.0, 17.0, 17.0, 16.0, 17.0, 16.0, 17.0, 17.0, 16.0, 17.0, 17.0, 16.0, 17.0, 17.0, 16.0, 17.0, 17.0, 16.0, 17.0, 17.0, 16.0, 17.0, 17.0, 16.0, 17.0, 17.0]\n"
     ]
    }
   ],
   "source": [
    "parID = np.random.choice(df.ID.unique())\n",
    "# This is the only way to get the NaN\n",
    "print(df.loc[df.MediaName != df.MediaName].loc[\n",
    "    df.ID == parID].RecordingTimestamp.diff().to_list())"
   ]
  },
  {
   "cell_type": "code",
   "execution_count": 13,
   "metadata": {},
   "outputs": [
    {
     "data": {
      "text/plain": [
       "0"
      ]
     },
     "execution_count": 13,
     "metadata": {},
     "output_type": "execute_result"
    }
   ],
   "source": [
    "# Collisions of NaN MediaName and NaN ParticipntName\n",
    "df.loc[(df.MediaName != df.MediaName) & (df.ID != df.ID)].size"
   ]
  },
  {
   "cell_type": "code",
   "execution_count": 14,
   "metadata": {},
   "outputs": [],
   "source": [
    "df = df.loc[df.MediaName == df.MediaName]"
   ]
  },
  {
   "cell_type": "code",
   "execution_count": 15,
   "metadata": {},
   "outputs": [],
   "source": [
    "# Drop the first three participant data, because \n",
    "# we started switching immediately to the next stimulus\n",
    "# from the fourth participant\n",
    "df = df.loc[~df.ID.isin([1, 2, 3])]"
   ]
  },
  {
   "cell_type": "markdown",
   "metadata": {},
   "source": [
    "### Drop the skipped trials/phases\n",
    "\n",
    "Explore the duration of each trial/calibration/break (phase). These are in milliseconds, e.g. 2000.0 = 2 seconds."
   ]
  },
  {
   "cell_type": "code",
   "execution_count": 16,
   "metadata": {},
   "outputs": [],
   "source": [
    "grouped_timestamp = df.groupby(['ID', 'MediaName'])"
   ]
  },
  {
   "cell_type": "code",
   "execution_count": 17,
   "metadata": {},
   "outputs": [],
   "source": [
    "grouped_timestamp_series = pd.Series(grouped_timestamp.RecordingTimestamp.max(\n",
    "                        ) - grouped_timestamp.RecordingTimestamp.min())"
   ]
  },
  {
   "cell_type": "code",
   "execution_count": 18,
   "metadata": {},
   "outputs": [
    {
     "data": {
      "text/html": [
       "<div>\n",
       "<style scoped>\n",
       "    .dataframe tbody tr th:only-of-type {\n",
       "        vertical-align: middle;\n",
       "    }\n",
       "\n",
       "    .dataframe tbody tr th {\n",
       "        vertical-align: top;\n",
       "    }\n",
       "\n",
       "    .dataframe thead th {\n",
       "        text-align: right;\n",
       "    }\n",
       "</style>\n",
       "<table border=\"1\" class=\"dataframe\">\n",
       "  <thead>\n",
       "    <tr style=\"text-align: right;\">\n",
       "      <th></th>\n",
       "      <th></th>\n",
       "      <th>RecordingTimestamp</th>\n",
       "    </tr>\n",
       "    <tr>\n",
       "      <th>ID</th>\n",
       "      <th>MediaName</th>\n",
       "      <th></th>\n",
       "    </tr>\n",
       "  </thead>\n",
       "  <tbody>\n",
       "    <tr>\n",
       "      <th rowspan=\"5\" valign=\"top\">4</th>\n",
       "      <th>6_anagram_123456_1.tiff</th>\n",
       "      <td>33758.0</td>\n",
       "    </tr>\n",
       "    <tr>\n",
       "      <th>6_anagram_123456_2.tiff</th>\n",
       "      <td>16138.0</td>\n",
       "    </tr>\n",
       "    <tr>\n",
       "      <th>anagram_AECJKT.tiff</th>\n",
       "      <td>1382.0</td>\n",
       "    </tr>\n",
       "    <tr>\n",
       "      <th>anagram_ATEYRB.tiff</th>\n",
       "      <td>216422.0</td>\n",
       "    </tr>\n",
       "    <tr>\n",
       "      <th>anagram_DIEMAR.tiff</th>\n",
       "      <td>214924.0</td>\n",
       "    </tr>\n",
       "    <tr>\n",
       "      <th>...</th>\n",
       "      <th>...</th>\n",
       "      <td>...</td>\n",
       "    </tr>\n",
       "    <tr>\n",
       "      <th rowspan=\"5\" valign=\"top\">29</th>\n",
       "      <th>anagram_PEOWR.tiff</th>\n",
       "      <td>4196.0</td>\n",
       "    </tr>\n",
       "    <tr>\n",
       "      <th>anagram_RCTUO.tiff</th>\n",
       "      <td>5929.0</td>\n",
       "    </tr>\n",
       "    <tr>\n",
       "      <th>anagram_REABYT.tiff</th>\n",
       "      <td>165344.0</td>\n",
       "    </tr>\n",
       "    <tr>\n",
       "      <th>anagram_RNOBW.tiff</th>\n",
       "      <td>4697.0</td>\n",
       "    </tr>\n",
       "    <tr>\n",
       "      <th>anagram_TDMSOE.tiff</th>\n",
       "      <td>95546.0</td>\n",
       "    </tr>\n",
       "  </tbody>\n",
       "</table>\n",
       "<p>378 rows × 1 columns</p>\n",
       "</div>"
      ],
      "text/plain": [
       "                            RecordingTimestamp\n",
       "ID MediaName                                  \n",
       "4  6_anagram_123456_1.tiff             33758.0\n",
       "   6_anagram_123456_2.tiff             16138.0\n",
       "   anagram_AECJKT.tiff                  1382.0\n",
       "   anagram_ATEYRB.tiff                216422.0\n",
       "   anagram_DIEMAR.tiff                214924.0\n",
       "...                                        ...\n",
       "29 anagram_PEOWR.tiff                   4196.0\n",
       "   anagram_RCTUO.tiff                   5929.0\n",
       "   anagram_REABYT.tiff                165344.0\n",
       "   anagram_RNOBW.tiff                   4697.0\n",
       "   anagram_TDMSOE.tiff                 95546.0\n",
       "\n",
       "[378 rows x 1 columns]"
      ]
     },
     "execution_count": 18,
     "metadata": {},
     "output_type": "execute_result"
    }
   ],
   "source": [
    "pd.DataFrame(grouped_timestamp_series)"
   ]
  },
  {
   "cell_type": "code",
   "execution_count": 66,
   "metadata": {},
   "outputs": [
    {
     "data": {
      "image/png": "[encoded data removed]",
      "text/plain": [
       "<Figure size 512x384 with 1 Axes>"
      ]
     },
     "metadata": {},
     "output_type": "display_data"
    }
   ],
   "source": [
    "plt.style.use('default')\n",
    "plt.figure(figsize=(0.8*6.4, 0.8*4.8))\n",
    "plt.hist(list(dict(grouped_timestamp_series).values()), bins=5_000);\n",
    "plt.yscale('log')\n",
    "plt.xscale('log')\n",
    "plt.xlim(10, 1_000_0000);"
   ]
  },
  {
   "cell_type": "code",
   "execution_count": 69,
   "metadata": {},
   "outputs": [
    {
     "data": {
      "text/plain": [
       "ID  MediaName              \n",
       "11  anagram_PMEKUA.tiff         883.0\n",
       "15  anagram_UPATEN.tiff         949.0\n",
       "17  anagram_AEKUMP.tiff         966.0\n",
       "23  anagram_TOSMDE.tiff         983.0\n",
       "26  anagram_MPKUAE.tiff        1082.0\n",
       "10  anagram_EMDSTO.tiff        1099.0\n",
       "22  anagram_PMUKAE.tiff        1349.0\n",
       "9   anagram_NAUETP.tiff        1366.0\n",
       "4   anagram_AECJKT.tiff        1382.0\n",
       "5   anagram_EATYBR.tiff        1433.0\n",
       "12  anagram_PMEAUK.tiff        1633.0\n",
       "15  6_anagram_123456_2.tiff    1665.0\n",
       "11  anagram_TRBYEA.tiff        1782.0\n",
       "21  Black Screen.jpg           1882.0\n",
       "29  anagram_PEOWR.tiff         4196.0\n",
       "21  6_anagram_123456_2.tiff    4530.0\n",
       "29  anagram_RNOBW.tiff         4697.0\n",
       "11  anagram_BNRWO.tiff         5329.0\n",
       "29  anagram_RCTUO.tiff         5929.0\n",
       "9   anagram_BOWRN.tiff         6395.0\n",
       "29  anagram_DWLEFA.tiff        6428.0\n",
       "10  anagram_NBWRO.tiff         6812.0\n",
       "29  anagram_HLCKA.tiff         6878.0\n",
       "11  anagram_PRWOE.tiff         7694.0\n",
       "23  anagram_HKACL.tiff         7961.0\n",
       "9   anagram_DLEFWA.tiff        8028.0\n",
       "5   anagram_TORCU.tiff         8860.0\n",
       "20  6_anagram_123456_2.tiff    8910.0\n",
       "5   6_anagram_123456_2.tiff    8960.0\n",
       "13  anagram_OELCSD.tiff        9210.0\n",
       "Name: RecordingTimestamp, dtype: float64"
      ]
     },
     "execution_count": 69,
     "metadata": {},
     "output_type": "execute_result"
    }
   ],
   "source": [
    "pd.set_option('display.max_rows', 30)\n",
    "grouped_timestamp_series.sort_values()[90:120]"
   ]
  },
  {
   "cell_type": "markdown",
   "metadata": {},
   "source": [
    "#### Keep media of more than 2000 ms or 2 seconds (not skipped)"
   ]
  },
  {
   "cell_type": "code",
   "execution_count": 21,
   "metadata": {},
   "outputs": [],
   "source": [
    "df = grouped_timestamp.filter(lambda x: \n",
    "        x.RecordingTimestamp.max() - x.RecordingTimestamp.min() > 2000)"
   ]
  },
  {
   "cell_type": "markdown",
   "metadata": {},
   "source": [
    "### Quick check on how the coordinates look"
   ]
  },
  {
   "cell_type": "code",
   "execution_count": 22,
   "metadata": {},
   "outputs": [
    {
     "data": {
      "image/png": "[encoded data removed]",
      "text/plain": [
       "<Figure size 864x432 with 2 Axes>"
      ]
     },
     "metadata": {},
     "output_type": "display_data"
    },
    {
     "data": {
      "image/png": "[encoded data removed]",
      "text/plain": [
       "<Figure size 432x432 with 1 Axes>"
      ]
     },
     "metadata": {},
     "output_type": "display_data"
    }
   ],
   "source": [
    "m = np.random.choice(df.MediaName.unique())\n",
    "dfm = df.loc[df.MediaName == m]\n",
    "title_rest = m.rstrip('.tiff').lstrip('anagram_') + \\\n",
    "            '. Participants: ' + ', '.join([str(v) for v in dfm.ID.unique().tolist()])\n",
    "\n",
    "plt.style.use('dark_background')\n",
    "fig, (ax1, ax2) = plt.subplots(1, 2, figsize=(12, 6))\n",
    "ax1.scatter(dfm['GazePointX (MCSpx)'], 1024 - dfm['GazePointY (MCSpx)'], alpha=0.05)\n",
    "ax1.set(xlim=(0, 1280), ylim=(0, 1024), xticks=(), yticks=(), \n",
    "        title='Gaze ' + title_rest)\n",
    "ax1.set_aspect('equal', adjustable='box')\n",
    "ax2.scatter(dfm['FixationPointX (MCSpx)'], 1024 - dfm['FixationPointY (MCSpx)'], alpha=0.05)\n",
    "ax2.set(xlim=(0, 1280), ylim=(0, 1024), xticks=(), yticks=(), \n",
    "        title='Fixation ' + title_rest)\n",
    "ax2.set_aspect('equal', adjustable='box')\n",
    "plt.show()\n",
    "plt.figure(figsize=(6, 6))\n",
    "plt.title('Right Eye XY Location ' + title_rest)\n",
    "plt.gca().set_aspect('equal', adjustable='box')\n",
    "plt.scatter(dfm['EyePosRightX (ADCSmm)'],dfm['EyePosRightY (ADCSmm)'], alpha=0.05)\n",
    "plt.show()"
   ]
  },
  {
   "cell_type": "code",
   "execution_count": 23,
   "metadata": {},
   "outputs": [],
   "source": [
    "# plt.style.use('dark_background')\n",
    "# for m in df.MediaName.unique():\n",
    "#     dfm = df.loc[df.MediaName == m]\n",
    "#     plt.figure(figsize=(12, 12))\n",
    "#     plt.xlim(0, 1280)\n",
    "#     plt.ylim(0, 1024)\n",
    "#     plt.title(m.rstrip('.tiff').lstrip('anagram') + \n",
    "#               ' Participants: ' + ' '.join([str(v) for v in dfm.ID.unique().tolist()]))\n",
    "#     plt.gca().set_aspect('equal', adjustable='box')\n",
    "#     plt.scatter(dfm['GazePointX (MCSpx)'], 1024 - dfm['GazePointY (MCSpx)'], alpha=0.05)\n",
    "# #     plt.savefig('gaze_points/' + m + '.png', dpi=200)\n",
    "#     plt.show()"
   ]
  },
  {
   "cell_type": "markdown",
   "metadata": {},
   "source": [
    "### Combine participant and media to get each unique *phase*\n",
    "Combine participant-media to get each unique trial/calibration/break image (call it phase). \n",
    "And make `MediaName` a bit more digestible as well."
   ]
  },
  {
   "cell_type": "code",
   "execution_count": 24,
   "metadata": {},
   "outputs": [],
   "source": [
    "def strip_media(entry):\n",
    "    return entry.lstrip('6_anagram_').lstrip('5_anagram_'\n",
    "            ).lstrip('anagram_').rstrip('.jpg').rstrip('.tiff'\n",
    "            ).replace(' Screen', '_Screen')"
   ]
  },
  {
   "cell_type": "code",
   "execution_count": 25,
   "metadata": {},
   "outputs": [],
   "source": [
    "df.MediaName = df.MediaName.map(strip_media)"
   ]
  },
  {
   "cell_type": "code",
   "execution_count": 26,
   "metadata": {},
   "outputs": [],
   "source": [
    "df = df.assign(Phase = df.ID.astype('str') + '_' + df.MediaName)"
   ]
  },
  {
   "cell_type": "code",
   "execution_count": 27,
   "metadata": {},
   "outputs": [
    {
     "data": {
      "text/plain": [
       "array(['123456_1', 'LAEFDW', 'ELCSDO', 'DIEMAR', 'INOJRU', 'ATEYRB',\n",
       "       'TNPUAE', '123456_2', '12345', 'CLHKA', 'ROEPW', 'BWRNO', 'TORCU',\n",
       "       'Black_Screen', 'DLEFAW', 'OESLDC', 'DEMIAR', 'HKCAL', 'WRPEO',\n",
       "       'ROTCU', 'LDFAEW', 'EODLSC', 'IMEARD', 'NOUJIR', 'ABRYET', 'LCAKH',\n",
       "       'ORWPE', 'ONRWB', 'ORUCT', 'AELDWF', 'LSODCE', 'AKHLC', 'ORPWE',\n",
       "       'OWRNB', 'UORCT', 'FLEADW', 'SCOELD', 'IEDRAM', 'URJNOI', 'CKAHL',\n",
       "       'EWPRO', 'BOWRN', 'OTCUR', 'DLEFWA', 'ECDOSL', 'DEMAIR', 'RNJIOU',\n",
       "       'BERYTA', 'CALHK', 'PWROE', 'NBWRO', 'CTUOR', 'ADWFEL', 'LDOCES',\n",
       "       'RIAMED', 'UIOJNR', 'HLCAK', 'PRWOE', 'BNRWO', 'CUTOR', 'LWFADE',\n",
       "       'ECSDOL', 'RAEIDM', 'IJNROU', 'KHLCA', 'RWOEP', 'ROTUC', 'ADLWEF',\n",
       "       'CDOELS', 'DIMEAR', 'KAHLC', 'OEPWR', 'ORWBN', 'OUTCR', 'AWFELD',\n",
       "       'OELCSD', 'ARMEDI', 'OJIURN', 'LHAKC', 'OEWPR', 'WRONB', 'UCTOR',\n",
       "       'WLFEAD', 'SDOELC', 'AIRDEM', 'IJOUNR', 'HAKCL', 'OWRPE', 'NOBWR',\n",
       "       'RUCTO', 'EFADLW', 'DLSEOC', 'RAIEDM', 'RIJNOU', 'YBTAER',\n",
       "       'TAPUNE', 'SOTDEM', 'LHKCA', 'WROEP', 'OBWRN', 'TORUC', 'LWAEFD',\n",
       "       'DLEOCS', 'EMRDIA', 'RIUOJN', 'TABREY', 'NEUTAP', 'CLHAK', 'WPROE',\n",
       "       'WBONR', 'TCROU', 'ADWFLE', 'LCSDOE', 'MRAEID', 'URNJOI', 'EATRBY',\n",
       "       'CKHLA', 'EPRWO', 'OBNRW', 'TUORC', 'ELWDAF', 'DSCLEO', 'EDIRMA',\n",
       "       'JIRUNO', 'TAREYB', 'LACKH', 'EORWP', 'WOBNR', 'ORCTU', 'HKACL',\n",
       "       'WPEOR', 'RONBW', 'CUROT', 'LEWFAD', 'CDOSLE', 'MIEDRA', 'LHKAC',\n",
       "       'EORPW', 'WBNOR', 'TCURO', 'ELDAFW', 'OCSELD', 'EIADRM', 'HLACK',\n",
       "       'WOEPR', 'RWBNO', 'CROUT', 'AFDLWE', 'ESLDOC', 'MEIADR', 'NRUIOJ',\n",
       "       'KACLH', 'RWOBN', 'WEORP', 'TUCRO', 'EAFWLD', 'ELDOSC', 'ALHKC',\n",
       "       'PEORW', 'WRNBO', 'ROUTC', 'WFEALD', 'OECSLD', 'IDEMAR', 'AKCLH',\n",
       "       'OEPRW', 'BNORW', 'UROTC', 'WDFEAL', 'OLDSCE', 'HLCKA', 'PEOWR',\n",
       "       'RNOBW', 'RCTUO', 'DWLEFA', 'ODLSCE', 'IMEDRA', 'JIRNOU', 'REABYT',\n",
       "       'NTEUAP', 'TDMSOE'], dtype=object)"
      ]
     },
     "execution_count": 27,
     "metadata": {},
     "output_type": "execute_result"
    }
   ],
   "source": [
    "df.MediaName.unique()"
   ]
  },
  {
   "cell_type": "markdown",
   "metadata": {},
   "source": [
    "### Normalize measurements to each phase\n",
    "Normalize `RecordingTimestamp`, `FixationIndex`, `SaccadeIndex` to each unique phase.\n",
    "Without parallelization with `swifter`, runtimes are ~40 seconds for each `apply`. The parallelized runtimes may be different for you depending on the number of cores on your machine. "
   ]
  },
  {
   "cell_type": "code",
   "execution_count": 28,
   "metadata": {},
   "outputs": [],
   "source": [
    "phase_min_timestamp = dict(df.groupby('Phase').RecordingTimestamp.min())"
   ]
  },
  {
   "cell_type": "code",
   "execution_count": 29,
   "metadata": {},
   "outputs": [
    {
     "data": {
      "application/vnd.jupyter.widget-view+json": {
       "model_id": "39fa59d163fd40f3bbdc33dda24633a0",
       "version_major": 2,
       "version_minor": 0
      },
      "text/plain": [
       "HBox(children=(FloatProgress(value=0.0, description='Dask Apply', max=24.0, style=ProgressStyle(description_wi…"
      ]
     },
     "metadata": {},
     "output_type": "display_data"
    },
    {
     "name": "stdout",
     "output_type": "stream",
     "text": [
      "\n",
      "CPU times: user 2.65 s, sys: 1.11 s, total: 3.76 s\n",
      "Wall time: 11.8 s\n"
     ]
    }
   ],
   "source": [
    "%%time\n",
    "df = df.assign(Timestamp = df.swifter.allow_dask_on_strings().apply(lambda row: \n",
    "            row['RecordingTimestamp'] - phase_min_timestamp[row['Phase']], \n",
    "                 axis=1))"
   ]
  },
  {
   "cell_type": "code",
   "execution_count": 30,
   "metadata": {},
   "outputs": [],
   "source": [
    "phase_min_fixation_index = dict(df.groupby('Phase').FixationIndex.min())"
   ]
  },
  {
   "cell_type": "code",
   "execution_count": 31,
   "metadata": {
    "scrolled": true
   },
   "outputs": [
    {
     "data": {
      "application/vnd.jupyter.widget-view+json": {
       "model_id": "7dc0c3d6237c4957a32bfb32d978fc0f",
       "version_major": 2,
       "version_minor": 0
      },
      "text/plain": [
       "HBox(children=(FloatProgress(value=0.0, description='Dask Apply', max=24.0, style=ProgressStyle(description_wi…"
      ]
     },
     "metadata": {},
     "output_type": "display_data"
    },
    {
     "name": "stdout",
     "output_type": "stream",
     "text": [
      "\n",
      "CPU times: user 2.66 s, sys: 1.2 s, total: 3.86 s\n",
      "Wall time: 11.8 s\n"
     ]
    }
   ],
   "source": [
    "%%time\n",
    "# add 1 so that it starts with 1 (first fixation detected) not 0 for each phase\n",
    "df = df.assign(FixationNumber = df.swifter.allow_dask_on_strings().apply(lambda row: \n",
    "            row['FixationIndex'] - phase_min_fixation_index[row['Phase']] + 1, \n",
    "                 axis=1))"
   ]
  },
  {
   "cell_type": "code",
   "execution_count": 32,
   "metadata": {},
   "outputs": [],
   "source": [
    "phase_min_saccade_index = dict(df.groupby('Phase').SaccadeIndex.min())"
   ]
  },
  {
   "cell_type": "code",
   "execution_count": 33,
   "metadata": {},
   "outputs": [
    {
     "data": {
      "application/vnd.jupyter.widget-view+json": {
       "model_id": "1ba18e36bf994a1d8c14c77146531ac6",
       "version_major": 2,
       "version_minor": 0
      },
      "text/plain": [
       "HBox(children=(FloatProgress(value=0.0, description='Dask Apply', max=24.0, style=ProgressStyle(description_wi…"
      ]
     },
     "metadata": {},
     "output_type": "display_data"
    },
    {
     "name": "stdout",
     "output_type": "stream",
     "text": [
      "\n",
      "CPU times: user 2.67 s, sys: 1.18 s, total: 3.85 s\n",
      "Wall time: 12 s\n"
     ]
    }
   ],
   "source": [
    "%%time\n",
    "# add 1 so that it starts with 1 (first saccade detected) not 0 for each phase\n",
    "df = df.assign(SaccadeNumber = df.swifter.allow_dask_on_strings().apply(lambda row: \n",
    "            row['SaccadeIndex'] - phase_min_saccade_index[row['Phase']] + 1, \n",
    "                 axis=1))"
   ]
  },
  {
   "cell_type": "code",
   "execution_count": 34,
   "metadata": {},
   "outputs": [],
   "source": [
    "# Drop the columns normalized to the overall recording\n",
    "df = df.drop(columns={'RecordingTimestamp', 'FixationIndex', 'SaccadeIndex'})"
   ]
  },
  {
   "cell_type": "markdown",
   "metadata": {},
   "source": [
    "### Convert all coordinates to bottom left origin\n",
    "Convert to xy from bottom left (do the same with the coordinates of the letters) "
   ]
  },
  {
   "cell_type": "code",
   "execution_count": 35,
   "metadata": {},
   "outputs": [],
   "source": [
    "five_coordinates_bottomleft = [(x, 1024 - y) for x, y in five_coordinates_topleft]\n",
    "six_coordinates_bottomleft = [(x, 1024 - y) for x, y in six_coordinates_topleft]"
   ]
  },
  {
   "cell_type": "code",
   "execution_count": 36,
   "metadata": {},
   "outputs": [
    {
     "name": "stdout",
     "output_type": "stream",
     "text": [
      "[(32, 517), (451, 980), (1131, 802), (1132, 231), (450, 53)]\n",
      "[(35, 515), (335, 937), (943, 937), (1245, 515), (944, 96), (334, 96)]\n"
     ]
    }
   ],
   "source": [
    "print(five_coordinates_bottomleft)\n",
    "print(six_coordinates_bottomleft)"
   ]
  },
  {
   "cell_type": "code",
   "execution_count": 37,
   "metadata": {},
   "outputs": [],
   "source": [
    "df['FixationPointY (MCSpx)'] = 1024 - df['FixationPointY (MCSpx)']\n",
    "df['GazePointY (MCSpx)'] = 1024 - df['GazePointY (MCSpx)']"
   ]
  },
  {
   "cell_type": "markdown",
   "metadata": {},
   "source": [
    "### Get the polar coordinates and identify of the nearest letter/number location center\n",
    "\n",
    "Get polar coordinates to nearest letter, and column with that letter is going clockwise from left. Do this for gaze and fixation. "
   ]
  },
  {
   "cell_type": "code",
   "execution_count": 38,
   "metadata": {},
   "outputs": [],
   "source": [
    "five_x_bottomleft = np.array([coord[0] for coord in five_coordinates_bottomleft])\n",
    "five_y_bottomleft = np.array([coord[1] for coord in five_coordinates_bottomleft])\n",
    "\n",
    "six_x_bottomleft = np.array([coord[0] for coord in six_coordinates_bottomleft])\n",
    "six_y_bottomleft = np.array([coord[1] for coord in six_coordinates_bottomleft])"
   ]
  },
  {
   "cell_type": "code",
   "execution_count": 39,
   "metadata": {},
   "outputs": [],
   "source": [
    "def gaze_polar_location_info(row):\n",
    "    # Only difference with fixation function\n",
    "    x, y = row['GazePointX (MCSpx)'], row['GazePointY (MCSpx)']  \n",
    "    \n",
    "    if (row['MediaName'] == '12345') or (\n",
    "                        len(row['MediaName']) == 5 and row['MediaName'].isalpha()):\n",
    "        distances = np.sqrt((x - five_x_bottomleft)**2 + (y - five_y_bottomleft)**2)\n",
    "        r, idx = distances.min(), distances.argmin()\n",
    "        theta = np.arctan2(x - five_x_bottomleft[idx], y - five_y_bottomleft[idx]) * 180 / np.pi\n",
    "        return idx+1, r, theta\n",
    "    \n",
    "    elif (row['MediaName'] in ['123456_1', '123456_2']) or (\n",
    "                            len(row['MediaName']) == 6 and row['MediaName'].isalpha()):\n",
    "        distances = np.sqrt((x - six_x_bottomleft)**2 + (y - six_y_bottomleft)**2)\n",
    "        r, idx = distances.min(), distances.argmin()\n",
    "        theta = np.arctan2(x - six_x_bottomleft[idx], y - six_y_bottomleft[idx]) * 180 / np.pi\n",
    "        return idx+1, r, theta\n",
    "        \n",
    "    else:\n",
    "        return np.nan, np.nan, np.nan"
   ]
  },
  {
   "cell_type": "markdown",
   "metadata": {},
   "source": [
    "##### Caution: This takes a long time"
   ]
  },
  {
   "cell_type": "code",
   "execution_count": 40,
   "metadata": {},
   "outputs": [
    {
     "name": "stdout",
     "output_type": "stream",
     "text": [
      "CPU times: user 2min 10s, sys: 2.96 s, total: 2min 13s\n",
      "Wall time: 2min 13s\n"
     ]
    }
   ],
   "source": [
    "%%time\n",
    "# Parallelization is not possible unfortunately\n",
    "gaze_polar = df.apply(gaze_polar_location_info, axis=1)"
   ]
  },
  {
   "cell_type": "code",
   "execution_count": 50,
   "metadata": {},
   "outputs": [],
   "source": [
    "gaze_polar = pd.DataFrame(gaze_polar.tolist(), index=gaze_polar.index, \n",
    "                            columns=['GazeLoc', 'GazeR', 'GazeTheta'])\n",
    "\n",
    "df = df.join(gaze_polar)"
   ]
  },
  {
   "cell_type": "markdown",
   "metadata": {},
   "source": [
    "#### Do the same for fixation"
   ]
  },
  {
   "cell_type": "code",
   "execution_count": 52,
   "metadata": {},
   "outputs": [],
   "source": [
    "def fixation_polar_location_info(row):\n",
    "    \"\"\"This function is identical to `gaze_polar_location_info`, \n",
    "    only the `x, y` are fixation not gaze.\"\"\"\n",
    "    \n",
    "    # Only difference with gaze function\n",
    "    x, y = row['FixationPointX (MCSpx)'], row['FixationPointY (MCSpx)']\n",
    "    \n",
    "    if (row['MediaName'] == '12345') or (\n",
    "                        len(row['MediaName']) == 5 and row['MediaName'].isalpha()):\n",
    "        distances = np.sqrt((x - five_x_bottomleft)**2 + (y - five_y_bottomleft)**2)\n",
    "        r, idx = distances.min(), distances.argmin()\n",
    "        theta = np.arctan2(x - five_x_bottomleft[idx], y - five_y_bottomleft[idx]) * 180 / np.pi\n",
    "        return idx+1, r, theta\n",
    "    \n",
    "    elif (row['MediaName'] in ['123456_1', '123456_2']) or (\n",
    "                            len(row['MediaName']) == 6 and row['MediaName'].isalpha()):\n",
    "        distances = np.sqrt((x - six_x_bottomleft)**2 + (y - six_y_bottomleft)**2)\n",
    "        r, idx = distances.min(), distances.argmin()\n",
    "        theta = np.arctan2(x - six_x_bottomleft[idx], y - six_y_bottomleft[idx]) * 180 / np.pi\n",
    "        return idx+1, r, theta\n",
    "        \n",
    "    else:\n",
    "        return np.nan, np.nan, np.nan"
   ]
  },
  {
   "cell_type": "code",
   "execution_count": 53,
   "metadata": {},
   "outputs": [
    {
     "name": "stdout",
     "output_type": "stream",
     "text": [
      "CPU times: user 2min 5s, sys: 1.96 s, total: 2min 7s\n",
      "Wall time: 2min 7s\n"
     ]
    }
   ],
   "source": [
    "%%time\n",
    "# Parallelization is not possible unfortunately\n",
    "fixation_polar = df.apply(fixation_polar_location_info, axis=1)"
   ]
  },
  {
   "cell_type": "code",
   "execution_count": 55,
   "metadata": {},
   "outputs": [],
   "source": [
    "fixation_polar = pd.DataFrame(fixation_polar.tolist(), index=fixation_polar.index, \n",
    "                            columns=['FixationLoc', 'FixationR', 'FixationTheta'])\n",
    "df = df.join(fixation_polar)"
   ]
  },
  {
   "cell_type": "code",
   "execution_count": null,
   "metadata": {},
   "outputs": [],
   "source": []
  },
  {
   "cell_type": "code",
   "execution_count": 62,
   "metadata": {},
   "outputs": [
    {
     "data": {
      "text/plain": [
       "Index(['ID', 'RecordingDate', 'MediaName', 'GazeEventType',\n",
       "       'GazeEventDuration', 'FixationPointX (MCSpx)', 'FixationPointY (MCSpx)',\n",
       "       'GazePointX (MCSpx)', 'GazePointY (MCSpx)', 'DistanceLeft',\n",
       "       'DistanceRight', 'EyePosLeftX (ADCSmm)', 'EyePosLeftY (ADCSmm)',\n",
       "       'EyePosLeftZ (ADCSmm)', 'EyePosRightX (ADCSmm)',\n",
       "       'EyePosRightY (ADCSmm)', 'EyePosRightZ (ADCSmm)', 'ValidityLeft',\n",
       "       'ValidityRight', 'PupilLeft', 'PupilRight', 'Phase', 'Timestamp',\n",
       "       'FixationNumber', 'SaccadeNumber', 'GazeLoc', 'GazeR', 'GazeTheta',\n",
       "       'FixationLoc', 'FixationR', 'FixationTheta'],\n",
       "      dtype='object')"
      ]
     },
     "execution_count": 62,
     "metadata": {},
     "output_type": "execute_result"
    }
   ],
   "source": [
    "df.columns"
   ]
  },
  {
   "cell_type": "code",
   "execution_count": null,
   "metadata": {},
   "outputs": [],
   "source": []
  },
  {
   "cell_type": "code",
   "execution_count": null,
   "metadata": {},
   "outputs": [],
   "source": []
  },
  {
   "cell_type": "code",
   "execution_count": null,
   "metadata": {},
   "outputs": [],
   "source": []
  },
  {
   "cell_type": "code",
   "execution_count": null,
   "metadata": {},
   "outputs": [],
   "source": []
  },
  {
   "cell_type": "code",
   "execution_count": null,
   "metadata": {},
   "outputs": [],
   "source": []
  },
  {
   "cell_type": "code",
   "execution_count": null,
   "metadata": {},
   "outputs": [],
   "source": []
  },
  {
   "cell_type": "code",
   "execution_count": null,
   "metadata": {},
   "outputs": [],
   "source": []
  },
  {
   "cell_type": "code",
   "execution_count": null,
   "metadata": {},
   "outputs": [],
   "source": []
  },
  {
   "cell_type": "code",
   "execution_count": null,
   "metadata": {},
   "outputs": [],
   "source": []
  },
  {
   "cell_type": "markdown",
   "metadata": {},
   "source": [
    "### Next Steps\n",
    "* Combine participant-media to get each unique trial/calibration/break image (call it phase) **Done**\n",
    "* Normalize `RecordingTimestamp`, `FixationIndex`, `SaccadeIndex` to each unique phase **Done**\n",
    "* Convert to xy from bottom left (do the same with the coordinates of the letters) **Done**\n",
    "* Get polar coordinates to nearest letter, and column with that letter is going clockwise from left **Done**\n"
   ]
  },
  {
   "cell_type": "code",
   "execution_count": null,
   "metadata": {},
   "outputs": [],
   "source": []
  },
  {
   "cell_type": "code",
   "execution_count": null,
   "metadata": {},
   "outputs": [],
   "source": []
  }
 ],
 "metadata": {
  "kernelspec": {
   "display_name": "Python 3",
   "language": "python",
   "name": "python3"
  },
  "language_info": {
   "codemirror_mode": {
    "name": "ipython",
    "version": 3
   },
   "file_extension": ".py",
   "mimetype": "text/x-python",
   "name": "python",
   "nbconvert_exporter": "python",
   "pygments_lexer": "ipython3",
   "version": "3.8.3"
  }
 },
 "nbformat": 4,
 "nbformat_minor": 4
}
