{
 "cells": [
  {
   "cell_type": "code",
   "execution_count": 1,
   "metadata": {},
   "outputs": [],
   "source": [
    "import pandas as pd\n",
    "import numpy as np\n",
    "import matplotlib.pyplot as plt"
   ]
  },
  {
   "cell_type": "markdown",
   "metadata": {},
   "source": [
    "#### Load the Data"
   ]
  },
  {
   "cell_type": "code",
   "execution_count": 2,
   "metadata": {},
   "outputs": [],
   "source": [
    "dfraw = pd.read_csv('../data/fall_2019_total_participant_data.csv')"
   ]
  },
  {
   "cell_type": "code",
   "execution_count": 3,
   "metadata": {
    "scrolled": false
   },
   "outputs": [
    {
     "data": {
      "text/html": [
       "<div>\n",
       "<style scoped>\n",
       "    .dataframe tbody tr th:only-of-type {\n",
       "        vertical-align: middle;\n",
       "    }\n",
       "\n",
       "    .dataframe tbody tr th {\n",
       "        vertical-align: top;\n",
       "    }\n",
       "\n",
       "    .dataframe thead th {\n",
       "        text-align: right;\n",
       "    }\n",
       "</style>\n",
       "<table border=\"1\" class=\"dataframe\">\n",
       "  <thead>\n",
       "    <tr style=\"text-align: right;\">\n",
       "      <th></th>\n",
       "      <th>ParticipantName</th>\n",
       "      <th>RecordingName</th>\n",
       "      <th>RecordingDate</th>\n",
       "      <th>FixationFilter</th>\n",
       "      <th>MediaName</th>\n",
       "      <th>RecordingTimestamp</th>\n",
       "      <th>FixationIndex</th>\n",
       "      <th>GazeEventType</th>\n",
       "      <th>GazeEventDuration</th>\n",
       "      <th>GazePointX (ADCSpx)</th>\n",
       "      <th>...</th>\n",
       "      <th>EyePosRightY (ADCSmm)</th>\n",
       "      <th>EyePosRightZ (ADCSmm)</th>\n",
       "      <th>ValidityLeft</th>\n",
       "      <th>ValidityRight</th>\n",
       "      <th>PupilLeft</th>\n",
       "      <th>PupilRight</th>\n",
       "      <th>SaccadeIndex</th>\n",
       "      <th>IRMarkerCount</th>\n",
       "      <th>IRMarkerID</th>\n",
       "      <th>PupilGlassesRight</th>\n",
       "    </tr>\n",
       "  </thead>\n",
       "  <tbody>\n",
       "    <tr>\n",
       "      <th>0</th>\n",
       "      <td>P01</td>\n",
       "      <td>Rec 01</td>\n",
       "      <td>11/4/2019</td>\n",
       "      <td>I-VT filter</td>\n",
       "      <td>NaN</td>\n",
       "      <td>12.0</td>\n",
       "      <td>NaN</td>\n",
       "      <td>Unclassified</td>\n",
       "      <td>8.0</td>\n",
       "      <td>645.0</td>\n",
       "      <td>...</td>\n",
       "      <td>130.35</td>\n",
       "      <td>591.33</td>\n",
       "      <td>0.0</td>\n",
       "      <td>0.0</td>\n",
       "      <td>5.49</td>\n",
       "      <td>5.38</td>\n",
       "      <td>NaN</td>\n",
       "      <td>NaN</td>\n",
       "      <td>NaN</td>\n",
       "      <td>NaN</td>\n",
       "    </tr>\n",
       "    <tr>\n",
       "      <th>1</th>\n",
       "      <td>P01</td>\n",
       "      <td>Rec 01</td>\n",
       "      <td>11/4/2019</td>\n",
       "      <td>I-VT filter</td>\n",
       "      <td>NaN</td>\n",
       "      <td>29.0</td>\n",
       "      <td>1.0</td>\n",
       "      <td>Fixation</td>\n",
       "      <td>733.0</td>\n",
       "      <td>644.0</td>\n",
       "      <td>...</td>\n",
       "      <td>130.36</td>\n",
       "      <td>591.30</td>\n",
       "      <td>0.0</td>\n",
       "      <td>0.0</td>\n",
       "      <td>5.49</td>\n",
       "      <td>5.38</td>\n",
       "      <td>NaN</td>\n",
       "      <td>NaN</td>\n",
       "      <td>NaN</td>\n",
       "      <td>NaN</td>\n",
       "    </tr>\n",
       "    <tr>\n",
       "      <th>2</th>\n",
       "      <td>P01</td>\n",
       "      <td>Rec 01</td>\n",
       "      <td>11/4/2019</td>\n",
       "      <td>I-VT filter</td>\n",
       "      <td>NaN</td>\n",
       "      <td>46.0</td>\n",
       "      <td>1.0</td>\n",
       "      <td>Fixation</td>\n",
       "      <td>733.0</td>\n",
       "      <td>644.0</td>\n",
       "      <td>...</td>\n",
       "      <td>130.34</td>\n",
       "      <td>591.16</td>\n",
       "      <td>0.0</td>\n",
       "      <td>0.0</td>\n",
       "      <td>5.48</td>\n",
       "      <td>5.39</td>\n",
       "      <td>NaN</td>\n",
       "      <td>NaN</td>\n",
       "      <td>NaN</td>\n",
       "      <td>NaN</td>\n",
       "    </tr>\n",
       "    <tr>\n",
       "      <th>3</th>\n",
       "      <td>P01</td>\n",
       "      <td>Rec 01</td>\n",
       "      <td>11/4/2019</td>\n",
       "      <td>I-VT filter</td>\n",
       "      <td>NaN</td>\n",
       "      <td>62.0</td>\n",
       "      <td>1.0</td>\n",
       "      <td>Fixation</td>\n",
       "      <td>733.0</td>\n",
       "      <td>646.0</td>\n",
       "      <td>...</td>\n",
       "      <td>130.32</td>\n",
       "      <td>591.12</td>\n",
       "      <td>0.0</td>\n",
       "      <td>0.0</td>\n",
       "      <td>5.49</td>\n",
       "      <td>5.38</td>\n",
       "      <td>NaN</td>\n",
       "      <td>NaN</td>\n",
       "      <td>NaN</td>\n",
       "      <td>NaN</td>\n",
       "    </tr>\n",
       "    <tr>\n",
       "      <th>4</th>\n",
       "      <td>P01</td>\n",
       "      <td>Rec 01</td>\n",
       "      <td>11/4/2019</td>\n",
       "      <td>I-VT filter</td>\n",
       "      <td>NaN</td>\n",
       "      <td>79.0</td>\n",
       "      <td>1.0</td>\n",
       "      <td>Fixation</td>\n",
       "      <td>733.0</td>\n",
       "      <td>645.0</td>\n",
       "      <td>...</td>\n",
       "      <td>130.33</td>\n",
       "      <td>591.22</td>\n",
       "      <td>0.0</td>\n",
       "      <td>0.0</td>\n",
       "      <td>5.47</td>\n",
       "      <td>5.38</td>\n",
       "      <td>NaN</td>\n",
       "      <td>NaN</td>\n",
       "      <td>NaN</td>\n",
       "      <td>NaN</td>\n",
       "    </tr>\n",
       "    <tr>\n",
       "      <th>...</th>\n",
       "      <td>...</td>\n",
       "      <td>...</td>\n",
       "      <td>...</td>\n",
       "      <td>...</td>\n",
       "      <td>...</td>\n",
       "      <td>...</td>\n",
       "      <td>...</td>\n",
       "      <td>...</td>\n",
       "      <td>...</td>\n",
       "      <td>...</td>\n",
       "      <td>...</td>\n",
       "      <td>...</td>\n",
       "      <td>...</td>\n",
       "      <td>...</td>\n",
       "      <td>...</td>\n",
       "      <td>...</td>\n",
       "      <td>...</td>\n",
       "      <td>...</td>\n",
       "      <td>...</td>\n",
       "      <td>...</td>\n",
       "      <td>...</td>\n",
       "    </tr>\n",
       "    <tr>\n",
       "      <th>1888472</th>\n",
       "      <td>P29</td>\n",
       "      <td>Rec 01</td>\n",
       "      <td>12/6/2019</td>\n",
       "      <td>I-VT filter</td>\n",
       "      <td>NaN</td>\n",
       "      <td>730993.0</td>\n",
       "      <td>NaN</td>\n",
       "      <td>Saccade</td>\n",
       "      <td>50.0</td>\n",
       "      <td>907.0</td>\n",
       "      <td>...</td>\n",
       "      <td>152.90</td>\n",
       "      <td>642.30</td>\n",
       "      <td>0.0</td>\n",
       "      <td>0.0</td>\n",
       "      <td>4.33</td>\n",
       "      <td>3.97</td>\n",
       "      <td>2294.0</td>\n",
       "      <td>NaN</td>\n",
       "      <td>NaN</td>\n",
       "      <td>NaN</td>\n",
       "    </tr>\n",
       "    <tr>\n",
       "      <th>1888473</th>\n",
       "      <td>P29</td>\n",
       "      <td>Rec 01</td>\n",
       "      <td>12/6/2019</td>\n",
       "      <td>I-VT filter</td>\n",
       "      <td>NaN</td>\n",
       "      <td>731010.0</td>\n",
       "      <td>NaN</td>\n",
       "      <td>Saccade</td>\n",
       "      <td>50.0</td>\n",
       "      <td>1132.0</td>\n",
       "      <td>...</td>\n",
       "      <td>153.07</td>\n",
       "      <td>642.97</td>\n",
       "      <td>0.0</td>\n",
       "      <td>0.0</td>\n",
       "      <td>4.30</td>\n",
       "      <td>3.97</td>\n",
       "      <td>2294.0</td>\n",
       "      <td>NaN</td>\n",
       "      <td>NaN</td>\n",
       "      <td>NaN</td>\n",
       "    </tr>\n",
       "    <tr>\n",
       "      <th>1888474</th>\n",
       "      <td>P29</td>\n",
       "      <td>Rec 01</td>\n",
       "      <td>12/6/2019</td>\n",
       "      <td>I-VT filter</td>\n",
       "      <td>NaN</td>\n",
       "      <td>731026.0</td>\n",
       "      <td>NaN</td>\n",
       "      <td>Unclassified</td>\n",
       "      <td>25.0</td>\n",
       "      <td>1155.0</td>\n",
       "      <td>...</td>\n",
       "      <td>152.96</td>\n",
       "      <td>642.69</td>\n",
       "      <td>0.0</td>\n",
       "      <td>0.0</td>\n",
       "      <td>4.37</td>\n",
       "      <td>4.00</td>\n",
       "      <td>NaN</td>\n",
       "      <td>NaN</td>\n",
       "      <td>NaN</td>\n",
       "      <td>NaN</td>\n",
       "    </tr>\n",
       "    <tr>\n",
       "      <th>1888475</th>\n",
       "      <td>P29</td>\n",
       "      <td>Rec 01</td>\n",
       "      <td>12/6/2019</td>\n",
       "      <td>I-VT filter</td>\n",
       "      <td>NaN</td>\n",
       "      <td>731043.0</td>\n",
       "      <td>NaN</td>\n",
       "      <td>Unclassified</td>\n",
       "      <td>25.0</td>\n",
       "      <td>1150.0</td>\n",
       "      <td>...</td>\n",
       "      <td>152.94</td>\n",
       "      <td>642.71</td>\n",
       "      <td>0.0</td>\n",
       "      <td>0.0</td>\n",
       "      <td>4.35</td>\n",
       "      <td>4.00</td>\n",
       "      <td>NaN</td>\n",
       "      <td>NaN</td>\n",
       "      <td>NaN</td>\n",
       "      <td>NaN</td>\n",
       "    </tr>\n",
       "    <tr>\n",
       "      <th>1888476</th>\n",
       "      <td>NaN</td>\n",
       "      <td>NaN</td>\n",
       "      <td>NaN</td>\n",
       "      <td>NaN</td>\n",
       "      <td>NaN</td>\n",
       "      <td>NaN</td>\n",
       "      <td>NaN</td>\n",
       "      <td>NaN</td>\n",
       "      <td>NaN</td>\n",
       "      <td>NaN</td>\n",
       "      <td>...</td>\n",
       "      <td>NaN</td>\n",
       "      <td>NaN</td>\n",
       "      <td>NaN</td>\n",
       "      <td>NaN</td>\n",
       "      <td>NaN</td>\n",
       "      <td>NaN</td>\n",
       "      <td>NaN</td>\n",
       "      <td>NaN</td>\n",
       "      <td>NaN</td>\n",
       "      <td>NaN</td>\n",
       "    </tr>\n",
       "  </tbody>\n",
       "</table>\n",
       "<p>1888477 rows × 39 columns</p>\n",
       "</div>"
      ],
      "text/plain": [
       "        ParticipantName RecordingName RecordingDate FixationFilter MediaName  \\\n",
       "0                   P01        Rec 01     11/4/2019    I-VT filter       NaN   \n",
       "1                   P01        Rec 01     11/4/2019    I-VT filter       NaN   \n",
       "2                   P01        Rec 01     11/4/2019    I-VT filter       NaN   \n",
       "3                   P01        Rec 01     11/4/2019    I-VT filter       NaN   \n",
       "4                   P01        Rec 01     11/4/2019    I-VT filter       NaN   \n",
       "...                 ...           ...           ...            ...       ...   \n",
       "1888472             P29        Rec 01     12/6/2019    I-VT filter       NaN   \n",
       "1888473             P29        Rec 01     12/6/2019    I-VT filter       NaN   \n",
       "1888474             P29        Rec 01     12/6/2019    I-VT filter       NaN   \n",
       "1888475             P29        Rec 01     12/6/2019    I-VT filter       NaN   \n",
       "1888476             NaN           NaN           NaN            NaN       NaN   \n",
       "\n",
       "         RecordingTimestamp  FixationIndex GazeEventType  GazeEventDuration  \\\n",
       "0                      12.0            NaN  Unclassified                8.0   \n",
       "1                      29.0            1.0      Fixation              733.0   \n",
       "2                      46.0            1.0      Fixation              733.0   \n",
       "3                      62.0            1.0      Fixation              733.0   \n",
       "4                      79.0            1.0      Fixation              733.0   \n",
       "...                     ...            ...           ...                ...   \n",
       "1888472            730993.0            NaN       Saccade               50.0   \n",
       "1888473            731010.0            NaN       Saccade               50.0   \n",
       "1888474            731026.0            NaN  Unclassified               25.0   \n",
       "1888475            731043.0            NaN  Unclassified               25.0   \n",
       "1888476                 NaN            NaN           NaN                NaN   \n",
       "\n",
       "         GazePointX (ADCSpx)  ...  EyePosRightY (ADCSmm)  \\\n",
       "0                      645.0  ...                 130.35   \n",
       "1                      644.0  ...                 130.36   \n",
       "2                      644.0  ...                 130.34   \n",
       "3                      646.0  ...                 130.32   \n",
       "4                      645.0  ...                 130.33   \n",
       "...                      ...  ...                    ...   \n",
       "1888472                907.0  ...                 152.90   \n",
       "1888473               1132.0  ...                 153.07   \n",
       "1888474               1155.0  ...                 152.96   \n",
       "1888475               1150.0  ...                 152.94   \n",
       "1888476                  NaN  ...                    NaN   \n",
       "\n",
       "         EyePosRightZ (ADCSmm)  ValidityLeft  ValidityRight  PupilLeft  \\\n",
       "0                       591.33           0.0            0.0       5.49   \n",
       "1                       591.30           0.0            0.0       5.49   \n",
       "2                       591.16           0.0            0.0       5.48   \n",
       "3                       591.12           0.0            0.0       5.49   \n",
       "4                       591.22           0.0            0.0       5.47   \n",
       "...                        ...           ...            ...        ...   \n",
       "1888472                 642.30           0.0            0.0       4.33   \n",
       "1888473                 642.97           0.0            0.0       4.30   \n",
       "1888474                 642.69           0.0            0.0       4.37   \n",
       "1888475                 642.71           0.0            0.0       4.35   \n",
       "1888476                    NaN           NaN            NaN        NaN   \n",
       "\n",
       "         PupilRight  SaccadeIndex  IRMarkerCount  IRMarkerID  \\\n",
       "0              5.38           NaN            NaN         NaN   \n",
       "1              5.38           NaN            NaN         NaN   \n",
       "2              5.39           NaN            NaN         NaN   \n",
       "3              5.38           NaN            NaN         NaN   \n",
       "4              5.38           NaN            NaN         NaN   \n",
       "...             ...           ...            ...         ...   \n",
       "1888472        3.97        2294.0            NaN         NaN   \n",
       "1888473        3.97        2294.0            NaN         NaN   \n",
       "1888474        4.00           NaN            NaN         NaN   \n",
       "1888475        4.00           NaN            NaN         NaN   \n",
       "1888476         NaN           NaN            NaN         NaN   \n",
       "\n",
       "         PupilGlassesRight  \n",
       "0                      NaN  \n",
       "1                      NaN  \n",
       "2                      NaN  \n",
       "3                      NaN  \n",
       "4                      NaN  \n",
       "...                    ...  \n",
       "1888472                NaN  \n",
       "1888473                NaN  \n",
       "1888474                NaN  \n",
       "1888475                NaN  \n",
       "1888476                NaN  \n",
       "\n",
       "[1888477 rows x 39 columns]"
      ]
     },
     "execution_count": 3,
     "metadata": {},
     "output_type": "execute_result"
    }
   ],
   "source": [
    "dfraw"
   ]
  },
  {
   "cell_type": "code",
   "execution_count": 4,
   "metadata": {},
   "outputs": [
    {
     "data": {
      "text/plain": [
       "Index(['ParticipantName', 'RecordingName', 'RecordingDate', 'FixationFilter',\n",
       "       'MediaName', 'RecordingTimestamp', 'FixationIndex', 'GazeEventType',\n",
       "       'GazeEventDuration', 'GazePointX (ADCSpx)', 'GazePointY (ADCSpx)',\n",
       "       'GazePointLeftX (ADCSpx)', 'GazePointLeftY (ADCSpx)',\n",
       "       'GazePointRightX (ADCSpx)', 'GazePointRightY (ADCSpx)',\n",
       "       'FixationPointX (MCSpx)', 'FixationPointY (MCSpx)',\n",
       "       'GazePointX (MCSpx)', 'GazePointY (MCSpx)', 'CamLeftX', 'CamLeftY',\n",
       "       'CamRightX', 'CamRightY', 'DistanceLeft', 'DistanceRight',\n",
       "       'EyePosLeftX (ADCSmm)', 'EyePosLeftY (ADCSmm)', 'EyePosLeftZ (ADCSmm)',\n",
       "       'EyePosRightX (ADCSmm)', 'EyePosRightY (ADCSmm)',\n",
       "       'EyePosRightZ (ADCSmm)', 'ValidityLeft', 'ValidityRight', 'PupilLeft',\n",
       "       'PupilRight', 'SaccadeIndex', 'IRMarkerCount', 'IRMarkerID',\n",
       "       'PupilGlassesRight'],\n",
       "      dtype='object')"
      ]
     },
     "execution_count": 4,
     "metadata": {},
     "output_type": "execute_result"
    }
   ],
   "source": [
    "dfraw.columns"
   ]
  },
  {
   "cell_type": "code",
   "execution_count": 5,
   "metadata": {},
   "outputs": [
    {
     "name": "stdout",
     "output_type": "stream",
     "text": [
      "[nan  0.]\n",
      "[  nan    0. -152.] uh oh\n"
     ]
    }
   ],
   "source": [
    "# Make sure that MCSpx and ADCSpx have the same coordinates\n",
    "print((dfraw['GazePointX (MCSpx)'] - dfraw['GazePointX (ADCSpx)']).unique())\n",
    "print((dfraw['GazePointY (MCSpx)'] - dfraw['GazePointY (ADCSpx)']).unique(), 'uh oh')"
   ]
  },
  {
   "cell_type": "code",
   "execution_count": 6,
   "metadata": {},
   "outputs": [
    {
     "name": "stdout",
     "output_type": "stream",
     "text": [
      "29805\n",
      "['Black Screen.jpg']\n",
      "84323\n",
      "35.3% of the black screen has this -152 issue...\n"
     ]
    }
   ],
   "source": [
    "# There's differences in the y part for some of the black screen, not sure why \n",
    "print(dfraw.loc[(dfraw['GazePointY (MCSpx)'] - dfraw['GazePointY (ADCSpx)']) < 0].shape[0])\n",
    "print(dfraw.loc[(dfraw['GazePointY (MCSpx)'] - dfraw['GazePointY (ADCSpx)']) < 0].MediaName.unique())\n",
    "print(dfraw.loc[dfraw.MediaName == 'Black Screen.jpg'].shape[0])\n",
    "print('{:.1%} of the black screen has this -152 issue...'.format(29805 / 84323))"
   ]
  },
  {
   "cell_type": "code",
   "execution_count": 7,
   "metadata": {},
   "outputs": [
    {
     "data": {
      "image/png": "[encoded data removed]",
      "text/plain": [
       "<Figure size 432x288 with 1 Axes>"
      ]
     },
     "metadata": {
      "needs_background": "light"
     },
     "output_type": "display_data"
    }
   ],
   "source": [
    "# Fixation point differs because gaze bounces around fixation\n",
    "(dfraw['FixationPointX (MCSpx)'] - dfraw['GazePointX (ADCSpx)']).hist(bins=1_000)\n",
    "plt.xlim(-50, 50);"
   ]
  },
  {
   "cell_type": "code",
   "execution_count": 8,
   "metadata": {},
   "outputs": [
    {
     "data": {
      "image/png": "[encoded data removed]",
      "text/plain": [
       "<Figure size 432x288 with 1 Axes>"
      ]
     },
     "metadata": {
      "needs_background": "light"
     },
     "output_type": "display_data"
    }
   ],
   "source": [
    "# Fixation point differs because gaze bounces around fixation\n",
    "(dfraw['FixationPointY (MCSpx)'] - dfraw['GazePointY (ADCSpx)']).hist(bins=1_000)\n",
    "plt.xlim(-50, 50);"
   ]
  },
  {
   "cell_type": "markdown",
   "metadata": {},
   "source": [
    "## Clean up data"
   ]
  },
  {
   "cell_type": "markdown",
   "metadata": {},
   "source": [
    "#### Participant Naming Mistakes"
   ]
  },
  {
   "cell_type": "code",
   "execution_count": 9,
   "metadata": {},
   "outputs": [],
   "source": [
    "# Fix the mistakes in the ParticipantName column\n",
    "def fix_participant_names(entry):\n",
    "    if entry == 'P09':\n",
    "        return 'P08'\n",
    "    elif entry == 'P9':\n",
    "        return 'P09'\n",
    "    else:\n",
    "        return entry\n",
    "\n",
    "dfraw.ParticipantName = dfraw.ParticipantName.map(fix_participant_names)"
   ]
  },
  {
   "cell_type": "markdown",
   "metadata": {},
   "source": [
    "#### Poor Calibrations"
   ]
  },
  {
   "cell_type": "code",
   "execution_count": 10,
   "metadata": {},
   "outputs": [],
   "source": [
    "# Drop all entries from the participants whose eyes could not be identified \n",
    "# well by the eye trackier (particpants 16 and 19) in `par_data_total.ipynb\n",
    "poor_calibrations = ['P16', 'P19']\n",
    "dfraw = dfraw[~dfraw.ParticipantName.isin(poor_calibrations)]"
   ]
  },
  {
   "cell_type": "markdown",
   "metadata": {},
   "source": [
    "#### Invalid Trials"
   ]
  },
  {
   "cell_type": "code",
   "execution_count": 11,
   "metadata": {},
   "outputs": [],
   "source": [
    "# We get these manual removes from looking at the histograms of the fixation data and the \n",
    "# recording_data in `par_data_total.ipynb`\n",
    "\n",
    "manual_remove = ['EATCJK', 'EUKMPA', 'GNSOAL', 'MLRNAO', 'YSMOTR', 'TENUAP', \n",
    "                 'UMKPAE', 'RWBON', 'WRNOB', 'NPTAUE', 'RSOYMT', 'LOMNAR']    \n",
    "\n",
    "dfraw = dfraw.loc[~dfraw.MediaName.isin(['anagram_' + agrm + '.tiff' for agrm in manual_remove])]"
   ]
  },
  {
   "cell_type": "markdown",
   "metadata": {},
   "source": [
    "#### Lazy Eye"
   ]
  },
  {
   "cell_type": "code",
   "execution_count": 12,
   "metadata": {},
   "outputs": [],
   "source": [
    "# Handle participant 12's lazy right eye\n",
    "dfraw['GazePointX (ADCSpx)'] = np.where(dfraw.ParticipantName == 'P12', \n",
    "                            dfraw['GazePointLeftX (ADCSpx)'], dfraw['GazePointX (ADCSpx)'])\n",
    "\n",
    "dfraw['GazePointY (ADCSpx)'] = np.where(dfraw.ParticipantName == 'P12', \n",
    "                            dfraw['GazePointLeftY (ADCSpx)'], dfraw['GazePointY (ADCSpx)'])"
   ]
  },
  {
   "cell_type": "markdown",
   "metadata": {},
   "source": [
    "#### Get 5 and 6 Number Calibrations"
   ]
  },
  {
   "cell_type": "code",
   "execution_count": 13,
   "metadata": {},
   "outputs": [],
   "source": [
    "max_timestamps = dict(dfraw.groupby(['ParticipantName']).RecordingTimestamp.max())\n",
    "\n",
    "limited_recording_data = dfraw[['ParticipantName', 'RecordingTimestamp']]\n",
    "\n",
    "def get_percent_recording(row):\n",
    "    max_timestamp =  max_timestamps.get(row['ParticipantName'], np.nan)\n",
    "    return row['RecordingTimestamp'] / max_timestamp"
   ]
  },
  {
   "cell_type": "code",
   "execution_count": 14,
   "metadata": {},
   "outputs": [
    {
     "name": "stdout",
     "output_type": "stream",
     "text": [
      "CPU times: user 35.6 s, sys: 158 ms, total: 35.8 s\n",
      "Wall time: 35.9 s\n"
     ]
    }
   ],
   "source": [
    "%%time\n",
    "percent_recording = limited_recording_data.apply(get_percent_recording, axis=1)"
   ]
  },
  {
   "cell_type": "code",
   "execution_count": 15,
   "metadata": {},
   "outputs": [],
   "source": [
    "dfraw['PercentRecording'] = percent_recording"
   ]
  },
  {
   "cell_type": "code",
   "execution_count": 16,
   "metadata": {},
   "outputs": [
    {
     "data": {
      "text/plain": [
       "<matplotlib.axes._subplots.AxesSubplot at 0x7fe6de3dcfa0>"
      ]
     },
     "execution_count": 16,
     "metadata": {},
     "output_type": "execute_result"
    },
    {
     "data": {
      "image/png": "[encoded data removed]",
      "text/plain": [
       "<Figure size 432x288 with 1 Axes>"
      ]
     },
     "metadata": {
      "needs_background": "light"
     },
     "output_type": "display_data"
    }
   ],
   "source": [
    "# When did the 5 number calibrations happen for each participant?\n",
    "# Answer: Beginning\n",
    "dfraw.loc[(dfraw.MediaName == '5_anagram_12345.tiff')]['PercentRecording'].hist(bins=200)"
   ]
  },
  {
   "cell_type": "code",
   "execution_count": 17,
   "metadata": {},
   "outputs": [
    {
     "data": {
      "text/plain": [
       "<matplotlib.axes._subplots.AxesSubplot at 0x7fe6de303ca0>"
      ]
     },
     "execution_count": 17,
     "metadata": {},
     "output_type": "execute_result"
    },
    {
     "data": {
      "image/png": "[encoded data removed]",
      "text/plain": [
       "<Figure size 432x288 with 1 Axes>"
      ]
     },
     "metadata": {
      "needs_background": "light"
     },
     "output_type": "display_data"
    }
   ],
   "source": [
    "# When did the 6 number calibrations happen for each participant?\n",
    "# Answer: Middle and End\n",
    "dfraw.loc[(dfraw.MediaName == '6_anagram_123456.tiff')]['PercentRecording'].hist(bins=200)"
   ]
  },
  {
   "cell_type": "code",
   "execution_count": 18,
   "metadata": {},
   "outputs": [
    {
     "data": {
      "text/plain": [
       "1842525    0.957354\n",
       "1842526    0.957374\n",
       "1842527    0.957395\n",
       "1842528    0.957415\n",
       "1842529    0.957436\n",
       "Name: PercentRecording, dtype: float64"
      ]
     },
     "execution_count": 18,
     "metadata": {},
     "output_type": "execute_result"
    }
   ],
   "source": [
    "# After 75% through the trial is a safe cut off to get the ending 6 calibration\n",
    "dfraw.loc[(dfraw.MediaName == '6_anagram_123456.tiff') &\n",
    "          (dfraw['PercentRecording'] > 0.72)].sort_values(\n",
    "    by='PercentRecording')['PercentRecording'].head()"
   ]
  },
  {
   "cell_type": "code",
   "execution_count": 19,
   "metadata": {},
   "outputs": [
    {
     "data": {
      "text/plain": [
       "<matplotlib.axes._subplots.AxesSubplot at 0x7fe6de78c1f0>"
      ]
     },
     "execution_count": 19,
     "metadata": {},
     "output_type": "execute_result"
    },
    {
     "data": {
      "image/png": "[encoded data removed]",
      "text/plain": [
       "<Figure size 432x288 with 1 Axes>"
      ]
     },
     "metadata": {
      "needs_background": "light"
     },
     "output_type": "display_data"
    }
   ],
   "source": [
    "dfraw.loc[(dfraw.MediaName == 'anagram_123456.tiff')]['PercentRecording'].hist(bins=200)"
   ]
  },
  {
   "cell_type": "code",
   "execution_count": 20,
   "metadata": {},
   "outputs": [],
   "source": [
    "dfraw.MediaName = np.where((dfraw.PercentRecording > 0.72) & (dfraw.MediaName == 'anagram_123456.tiff'), \n",
    "        '6_anagram_123456_2.tiff', dfraw.MediaName)\n",
    "dfraw.MediaName = np.where((dfraw.PercentRecording <= 0.72) & (dfraw.MediaName == 'anagram_123456.tiff'), \n",
    "        '6_anagram_123456_1.tiff', dfraw.MediaName)\n",
    "dfraw.MediaName = np.where((dfraw.PercentRecording > 0.72) & (dfraw.MediaName == '6_anagram_123456.tiff'), \n",
    "        '6_anagram_123456_2.tiff', dfraw.MediaName)\n",
    "dfraw.MediaName = np.where((dfraw.PercentRecording <= 0.72) & (dfraw.MediaName == '6_anagram_123456.tiff'), \n",
    "        '6_anagram_123456_1.tiff', dfraw.MediaName)"
   ]
  },
  {
   "cell_type": "markdown",
   "metadata": {},
   "source": [
    "#### Saccade and Fixation index count across the whole recording (participant in our case)"
   ]
  },
  {
   "cell_type": "code",
   "execution_count": 21,
   "metadata": {},
   "outputs": [
    {
     "data": {
      "image/png": "[encoded data removed]",
      "text/plain": [
       "<Figure size 432x288 with 1 Axes>"
      ]
     },
     "metadata": {
      "needs_background": "light"
     },
     "output_type": "display_data"
    },
    {
     "data": {
      "image/png": "[encoded data removed]",
      "text/plain": [
       "<Figure size 432x288 with 1 Axes>"
      ]
     },
     "metadata": {
      "needs_background": "light"
     },
     "output_type": "display_data"
    }
   ],
   "source": [
    "par = np.random.choice(dfraw.ParticipantName.unique())\n",
    "dfraw.loc[dfraw.ParticipantName == par]['SaccadeIndex'].plot(title=par + ' Saccade Index')\n",
    "plt.show()\n",
    "dfraw.loc[dfraw.ParticipantName == par]['FixationIndex'].plot(title=par + ' Fixation Index')\n",
    "plt.show()"
   ]
  },
  {
   "cell_type": "markdown",
   "metadata": {},
   "source": [
    "#### Understand what columns to keep, and what columns to drop"
   ]
  },
  {
   "cell_type": "code",
   "execution_count": 22,
   "metadata": {},
   "outputs": [
    {
     "name": "stdout",
     "output_type": "stream",
     "text": [
      "ParticipantName\n",
      "['P01' 'P02' 'P03' 'P04' 'P05' 'P06' 'P07' 'P08' 'P09' 'P10' 'P11' 'P12'\n",
      " 'P13' 'P14' 'P15' 'P22' nan 'P17' 'P18' 'P20']\n",
      "\n",
      "\n",
      "RecordingName\n",
      "['Rec 01' 'Participant_2' 'Rec 03' 'Rec01' nan]\n",
      "\n",
      "\n",
      "RecordingDate\n",
      "['11/4/2019' '11/5/2019' '11/11/2019' '11/12/2019' '11/13/2019'\n",
      " '11/18/2019' '11/20/2019' '11/21/2019' '12/2/2019' nan '11/22/2019'\n",
      " '11/25/2019' '12/3/2019' '12/4/2019' '12/5/2019' '12/6/2019']\n",
      "\n",
      "\n",
      "FixationFilter\n",
      "['I-VT filter' nan]\n",
      "\n",
      "\n",
      "MediaName\n",
      "[nan '6_anagram_123456_1.tiff' 'anagram_LEADFW.tiff' 'anagram_SCODLE.tiff'\n",
      " 'anagram_ARDIEM.tiff' 'anagram_IUJONR.tiff' 'anagram_RYEABT.tiff'\n",
      " 'anagram_PNEUTA.tiff' 'anagram_MDTOSE.tiff' 'anagram_KUMEPA.tiff'\n",
      " 'anagram_ASONLG.tiff' 'anagram_OYSMTR.tiff' 'anagram_LMOARN.tiff'\n",
      " 'anagram_AETCJK.tiff' '6_anagram_123456_2.tiff' 'anagram_AFDWLE.tiff'\n",
      " 'anagram_CEOLDS.tiff' 'anagram_IAMEDR.tiff' 'anagram_NOJUIR.tiff'\n",
      " 'anagram_ETABYR.tiff']\n",
      "\n",
      "\n",
      "RecordingTimestamp\n",
      "[ 12.  29.  46.  62.  79.  96. 112. 129. 145. 162. 179. 195. 212. 229.\n",
      " 245. 262. 279. 295. 312. 329.]\n",
      "\n",
      "\n",
      "FixationIndex\n",
      "[nan  1.  2.  3.  4.  5.  6.  7.  8.  9. 10. 11. 12. 13. 14. 15. 16. 17.\n",
      " 18. 19.]\n",
      "\n",
      "\n",
      "GazeEventType\n",
      "['Unclassified' 'Fixation' 'Saccade' nan]\n",
      "\n",
      "\n",
      "GazeEventDuration\n",
      "[   8.  733.   17.  183.   67.  150.   33.  600.   50.  100.   83.  133.\n",
      "  416.  200. 1649.  483.  217. 1949. 2315.  116.]\n",
      "\n",
      "\n",
      "GazePointX (ADCSpx)\n",
      "[645. 644. 646. 643. 653. 655. 652. 654. 649. 647. 648. 650. 651. 637.\n",
      "  nan 660. 670. 671. 676. 683.]\n",
      "\n",
      "\n",
      "GazePointY (ADCSpx)\n",
      "[448. 452. 451. 449. 450. 460. 455. 463. 457. 459. 456. 454. 453. 461.\n",
      " 458. 635.  nan 654. 574. 522.]\n",
      "\n",
      "\n",
      "GazePointLeftX (ADCSpx)\n",
      "[578. 579. 575. 580. 584. 591. 594. 589. 588. 593. 592. 587. 603. 600.\n",
      " 597. 596. 595. 599. 598. 590.]\n",
      "\n",
      "\n",
      "GazePointLeftY (ADCSpx)\n",
      "[435. 437. 438. 440. 441. 434. 433. 432. 448. 446. 436. 443. 442. 439.\n",
      " 444. 445. 450. 600.  nan 578.]\n",
      "\n",
      "\n",
      "GazePointRightX (ADCSpx)\n",
      "[712. 710. 713. 711. 703. 716. 714. 719. 707. 706. 708. 715. 704. 705.\n",
      " 701. 709. 674.  nan 695. 727.]\n",
      "\n",
      "\n",
      "GazePointRightY (ADCSpx)\n",
      "[462. 467. 464. 463. 465. 473. 481. 482. 472. 471. 478. 477. 475. 470.\n",
      " 466. 468. 480. 469. 474. 461.]\n",
      "\n",
      "\n",
      "FixationPointX (MCSpx)\n",
      "[ nan 681. 649. 635. 661. 636. 666. 640. 639. 641. 642. 645. 272. 698.\n",
      " 631. 655. 643. 647. 644. 648.]\n",
      "\n",
      "\n",
      "FixationPointY (MCSpx)\n",
      "[ nan 460. 541. 561. 568. 569. 556. 564. 563. 565. 483. 516. 557. 540.\n",
      " 571. 555. 566. 572. 567. 576.]\n",
      "\n",
      "\n",
      "GazePointX (MCSpx)\n",
      "[ nan 660. 670. 671. 676. 683. 681. 677. 682. 643. 665. 662. 661. 663.\n",
      " 658. 657. 653. 655. 647. 654.]\n",
      "\n",
      "\n",
      "GazePointY (MCSpx)\n",
      "[ nan 654. 574. 522. 491. 473. 462. 459. 461. 460. 458. 456. 457. 490.\n",
      " 499. 498. 504. 510. 511. 518.]\n",
      "\n",
      "\n",
      "CamLeftX\n",
      "[nan]\n",
      "\n",
      "\n",
      "CamLeftY\n",
      "[nan]\n",
      "\n",
      "\n",
      "CamRightX\n",
      "[nan]\n",
      "\n",
      "\n",
      "CamRightY\n",
      "[nan]\n",
      "\n",
      "\n",
      "DistanceLeft\n",
      "[596.49 596.52 596.42 596.25 596.16 596.21 596.37 596.38 596.36 596.23\n",
      " 596.15 596.18 596.1  596.   595.82 595.91 595.74 595.77 595.88 595.87]\n",
      "\n",
      "\n",
      "DistanceRight\n",
      "[596.49 596.52 596.42 596.25 596.16 596.21 596.37 596.38 596.36 596.23\n",
      " 596.15 596.18 596.1  596.   595.82 595.91 595.74 595.77 595.88 595.87]\n",
      "\n",
      "\n",
      "EyePosLeftX (ADCSmm)\n",
      "[146.82 146.81 146.84 146.85 146.86 146.88 146.9  146.91 146.92 146.93\n",
      " 146.98 147.03 147.15 147.24 147.36 147.51 147.67 147.84 148.02 148.18]\n",
      "\n",
      "\n",
      "EyePosLeftY (ADCSmm)\n",
      "[133.73 133.75 133.68 133.64 133.67 133.69 133.71 133.8  133.88 133.94\n",
      " 133.92 133.84 133.74 133.78 133.81 133.82 133.72 133.66 133.61 133.59]\n",
      "\n",
      "\n",
      "EyePosLeftZ (ADCSmm)\n",
      "[589.2  589.23 589.19 589.12 588.97 588.88 588.94 589.1  589.11 589.08\n",
      " 588.93 588.8  588.82 588.75 588.66 588.5  588.61 588.44 588.48 588.58]\n",
      "\n",
      "\n",
      "EyePosRightX (ADCSmm)\n",
      "[200.72 200.71 200.7  200.74 200.73 200.76 200.78 200.79 200.8  200.83\n",
      " 200.87 200.94 201.01 201.11 201.25 201.38 201.55 201.71 201.9  202.06]\n",
      "\n",
      "\n",
      "EyePosRightY (ADCSmm)\n",
      "[130.35 130.36 130.34 130.32 130.33 130.28 130.18 130.19 130.22 130.43\n",
      " 130.5  130.47 130.45 130.41 130.31 130.25 130.29 130.21 130.13 130.07]\n",
      "\n",
      "\n",
      "EyePosRightZ (ADCSmm)\n",
      "[591.33 591.3  591.16 591.12 591.22 591.15 590.91 590.96 590.95 590.88\n",
      " 590.79 590.84 590.83 590.67 590.69 590.5  590.36 590.09 590.33 590.18]\n",
      "\n",
      "\n",
      "ValidityLeft\n",
      "[ 0.  4.  3.  1.  2. nan]\n",
      "\n",
      "\n",
      "ValidityRight\n",
      "[ 0.  4.  1.  3.  2. nan]\n",
      "\n",
      "\n",
      "PupilLeft\n",
      "[5.49 5.48 5.47 5.46 5.45 5.43 5.42 5.41 5.4  5.39 5.38 5.37 5.36 5.17\n",
      "  nan 5.24 5.32 5.44 5.31 5.26]\n",
      "\n",
      "\n",
      "PupilRight\n",
      "[5.38 5.39 5.37 5.35 5.34 5.36 5.33 5.32 5.31 5.3  5.04  nan 4.99 5.13\n",
      " 5.22 5.29 5.23 5.16 5.11 5.03]\n",
      "\n",
      "\n",
      "SaccadeIndex\n",
      "[nan  1.  2.  3.  4.  5.  6.  7.  8.  9. 10. 11. 12. 13. 14. 15. 16. 17.\n",
      " 18. 19.]\n",
      "\n",
      "\n",
      "IRMarkerCount\n",
      "[nan]\n",
      "\n",
      "\n",
      "IRMarkerID\n",
      "[nan]\n",
      "\n",
      "\n",
      "PupilGlassesRight\n",
      "[nan]\n",
      "\n",
      "\n",
      "PercentRecording\n",
      "[1.28983161e-05 3.11709306e-05 4.94435451e-05 6.66413000e-05\n",
      " 8.49139145e-05 1.03186529e-04 1.20384284e-04 1.38656898e-04\n",
      " 1.55854653e-04 1.74127268e-04 1.92399882e-04 2.09597637e-04\n",
      " 2.27870252e-04 2.46142866e-04 2.63340621e-04 2.81613235e-04\n",
      " 2.99885850e-04 3.17083605e-04 3.35356219e-04 3.53628834e-04]\n",
      "\n",
      "\n"
     ]
    }
   ],
   "source": [
    "for col in dfraw.columns:\n",
    "    print(col, dfraw[col].unique()[:20], sep='\\n')\n",
    "    print('\\n')"
   ]
  },
  {
   "cell_type": "markdown",
   "metadata": {},
   "source": [
    "#### Drop Select Columns"
   ]
  },
  {
   "cell_type": "code",
   "execution_count": 23,
   "metadata": {},
   "outputs": [],
   "source": [
    "uninteresting_cols = ['RecordingName', 'FixationFilter', 'GazePointLeftX (ADCSpx)', \n",
    "                      'GazePointLeftY (ADCSpx)', 'GazePointRightX (ADCSpx)', \n",
    "                      'GazePointRightY (ADCSpx)', 'PercentRecording']\n",
    "\n",
    "redundant_cols = ['GazePointX (ADCSpx)', 'GazePointY (ADCSpx)']\n",
    "\n",
    "empty_cols = ['CamLeftX', 'CamLeftY', 'CamRightX', 'CamRightY', 'IRMarkerCount', \n",
    "              'IRMarkerID', 'PupilGlassesRight']"
   ]
  },
  {
   "cell_type": "code",
   "execution_count": 24,
   "metadata": {},
   "outputs": [],
   "source": [
    "dfraw = dfraw.drop(uninteresting_cols + redundant_cols + empty_cols, axis=1)"
   ]
  },
  {
   "cell_type": "markdown",
   "metadata": {},
   "source": [
    "#### Drop rows with with only 'NaN' entries"
   ]
  },
  {
   "cell_type": "code",
   "execution_count": 25,
   "metadata": {},
   "outputs": [
    {
     "name": "stdout",
     "output_type": "stream",
     "text": [
      "1709819\n",
      "1709817\n"
     ]
    }
   ],
   "source": [
    "print(dfraw.shape[0])\n",
    "dfraw = dfraw.dropna(how='all')\n",
    "print(dfraw.shape[0])"
   ]
  },
  {
   "cell_type": "markdown",
   "metadata": {},
   "source": [
    "### Export cleaned data"
   ]
  },
  {
   "cell_type": "code",
   "execution_count": 26,
   "metadata": {},
   "outputs": [],
   "source": [
    "dfclean = dfraw.copy()"
   ]
  },
  {
   "cell_type": "code",
   "execution_count": null,
   "metadata": {},
   "outputs": [],
   "source": [
    "dfclean.to_csv('../data/fall_2019_cleaned_total_participant_data.csv')"
   ]
  },
  {
   "cell_type": "code",
   "execution_count": null,
   "metadata": {},
   "outputs": [],
   "source": []
  }
 ],
 "metadata": {
  "kernelspec": {
   "display_name": "Python 3",
   "language": "python",
   "name": "python3"
  },
  "language_info": {
   "codemirror_mode": {
    "name": "ipython",
    "version": 3
   },
   "file_extension": ".py",
   "mimetype": "text/x-python",
   "name": "python",
   "nbconvert_exporter": "python",
   "pygments_lexer": "ipython3",
   "version": "3.8.3"
  }
 },
 "nbformat": 4,
 "nbformat_minor": 4
}
